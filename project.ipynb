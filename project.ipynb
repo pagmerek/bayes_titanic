{
 "metadata": {
  "language_info": {
   "codemirror_mode": {
    "name": "ipython",
    "version": 3
   },
   "file_extension": ".py",
   "mimetype": "text/x-python",
   "name": "python",
   "nbconvert_exporter": "python",
   "pygments_lexer": "ipython3",
   "version": 3
  },
  "orig_nbformat": 2
 },
 "nbformat": 4,
 "nbformat_minor": 2,
 "cells": [
  {
   "source": [
    "# Naiwny klasyfikator bayesowski\n",
    "## _Projekt na przedmiot: Rachunek prawdopodobieństwa i statystyka 2021_\n",
    "\n",
    "### Opis teoretyczny problemu\n",
    "Celem projektu jest implementacja naiwnego klasyfikatora bayesowskiego, który posłuży do klasyfikacji danych pasażerów statku Tytanic do 2 klas zmiennej **Survived**:\n",
    "* Przetrwał (`Survived = 1 = Yes`)\n",
    "* Zginął (`Survived = 0 = No `)\n",
    "\n",
    "Na podstawie zmiennych losowych:\n",
    "* **pclass** - której klasy biletem płynął pasażer ( 1 - pierwsza, 2 - druga, 3 - trzecia klasa)\n",
    "* **name** - imię i nazwisko pasażera\n",
    "* **sex** - płeć pasażera ( male - mężczyzna, female - kobieta)\n",
    "* **age** - wiek pasażera w latach\n",
    "* **sibsp** - ilość rodzeństwa/małżonków na pokładzie dla danego pasażera\n",
    "* **parch** - ilość rodziców/dzieci na pokładzie dla danego pasażera\n",
    "* **ticket** - numer biletu\n",
    "* **fare** - opłata pasażera\n",
    "* **cabin** - numer kabiny pasażera\n",
    "* **embarked** - port w którym pasażer wszedł na pokład Tytanica ( C = Cherbourg, Q = Queenstown, S = Southampton)\n",
    "\n",
    "W ten sposób wytrenowany klasyfikator pozwoli nam dla nowych danych pasażera określić jego los w przypadku jego wycieczki słynnym parowcem Tytanic. \n",
    "\n",
    "\n",
    "Celem zaimplementowanego klasyfikaotra będzie po podaniu powyżej podanych zmiennych losowych obliczenie prawdopodobieństwa należenia do klasy `0` lub `1` dla atrybutu **Survived** oraz zwrócenie tej bardziej prawdopodobnej. Stąd będziemy chcieć obliczyć prawdopodobieństwo warunkowe "
   ],
   "cell_type": "markdown",
   "metadata": {}
  },
  {
   "source": [
    "$$ P(survived=0 \\,\\,|\\,\\, pclass,\\,name,\\,sex,\\,age,\\,sibsp,\\,parch,\\,ticket,\\,fare,\\,cabin,\\,embarked) $$\n",
    "oraz\n",
    "$$ P(survived=1 \\,\\,|\\,\\, pclass,\\,name,\\,sex,\\,age,\\,sibsp,\\,parch,\\,ticket,\\,fare,\\,cabin,\\,embarked) $$"
   ],
   "cell_type": "markdown",
   "metadata": {}
  },
  {
   "source": [
    "W celu obliczenia powyższych prawdopodobieństw posłuzymy się _Twierdzeniem Bayesa_, które głosi, że"
   ],
   "cell_type": "markdown",
   "metadata": {}
  },
  {
   "source": [],
   "cell_type": "markdown",
   "metadata": {}
  }
 ]
}