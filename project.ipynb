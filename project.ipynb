{
 "cells": [
  {
   "cell_type": "markdown",
   "metadata": {},
   "source": [
    "# Naiwny klasyfikator bayesowski w obliczu Tytanica\n",
    "### Projekt na przedmiot: Rachunek prawdopodobieństwa i statystyka 2021\n",
    "Zatonięcie parowca Tytanic jest jedną z najsłynniejszych tragedii morskich w historii człowieka, mimo uznawania za 'niezatopialny' Tytanic po zderzeniu z lodowcem zabrał ze sobą na dno 1502 z 2224 pasażerów. W poniższej pracy będziemy chcieli odpowiedzieć na pytanie: Co miało wpływ na przeżycie pasażera? Jakie cechy pasażerów przekładały się na przeżycie? Jaki był profil przetrwańców?\n",
    "Posłużymy sie w tym celu klasyfikatorem bayesowskim.\n",
    "\n",
    "## Opis teoretyczny problemu\n",
    "\n",
    "Celem projektu jest implementacja naiwnego klasyfikatora bayesowskiego, który posłuży do klasyfikacji danych pasażerów statku Tytanic do 2 klas zmiennej **Survived**:\n",
    "* Przetrwał (`Survived = 1 = Yes`)\n",
    "* Zginął (`Survived = 0 = No `)\n",
    "\n",
    "Na podstawie cech:\n",
    "* **passangerId** - numer identyfikacyjny pasażera\n",
    "* **pclass** - której klasy biletem płynął pasażer ( 1 - pierwsza, 2 - druga, 3 - trzecia klasa)\n",
    "* **name** - imię i nazwisko pasażera\n",
    "* **sex** - płeć pasażera ( male - mężczyzna, female - kobieta)\n",
    "* **age** - wiek pasażera w latach\n",
    "* **sibsp** - ilość rodzeństwa/małżonków na pokładzie dla danego pasażera\n",
    "* **parch** - ilość rodziców/dzieci na pokładzie dla danego pasażera\n",
    "* **ticket** - numer biletu\n",
    "* **fare** - opłata pasażera\n",
    "* **cabin** - numer kabiny pasażera\n",
    "* **embarked** - port w którym pasażer wszedł na pokład Tytanica ( C = Cherbourg, Q = Queenstown, S = Southampton)\n",
    "\n",
    "W ten sposób wytrenowany klasyfikator pozwoli nam dla nowych danych pasażera określić jego los w przypadku jego wycieczki parowcem. \n",
    "\n",
    "\n",
    "Celem zaimplementowanego klasyfikaotra będzie po podaniu powyżej podanych cech $B$ obliczenie prawdopodobieństwa należenia do klasy `0` lub `1` dla atrybutu **Survived** oraz zwrócenie tej bardziej prawdopodobnej. Stąd będziemy chcieć obliczyć prawdopodobieństwo warunkowe \n",
    "\n",
    "$$ P(survived=0 \\,\\,|\\,\\,B) $$\n",
    "oraz\n",
    "$$ P(survived=1 \\,\\,|\\,\\,B) $$\n",
    "\n",
    "W celu obliczenia powyższych prawdopodobieństw posłuzymy się _Twierdzeniem Bayesa_, które głosi, że\n",
    "\n",
    "$$P(A\\,|B) = \\frac{P(B\\,|A)P(A)}{P(B)}$$\n",
    "\n",
    "Jeżeli określimy $B$ jako zbiór cech a $A$ jako zmienną **Survived** dostaniemy \n",
    "$$\n",
    "P(survived | B) = \\frac{P(B\\,|survived)P(survived)}{P(B)}\n",
    "$$\n",
    "\n",
    "W modelu klasyfikatora będzie nas obchodziło największe prawdopodobieństwo przy predykcji, a wartość P(B) będzie stała dla danego pasażera w obu przypadkach, zatem dla zmniejszenia ilośći obliczeń będziemy obliczać tylko wartości licznika.\n",
    "Naiwny klasyfikator Bayesa zakłada, że atrybuty są niezależne więc możemy powyższe równanie zapisać jako\n",
    "\n",
    "\n",
    "$$\n",
    "\n",
    "P(survived\\,|B_1,\\ldots,B_n) \\propto P(survived)P(B_1\\,|survived)P(B_2\\,|survided)\\ldots\n",
    "\n",
    "$$\n",
    "\n",
    "\n",
    "Zatem możemy, znając prawdopodobieństwo, że pasażer który umrze/przeżyje będzie miał dane cechy, obliczyć prawdopodobieństwo na to czy pasażer o danych cechach umrze czy przeżyje! \n",
    "\n",
    "\n",
    "***\n",
    "## Obróbka i analiza danych\n",
    "Przed implementacją klasyfikatora musimy jednak zadbać o jakość danych, na których będziemy trenować nasz klasyfikator. Oczywistą implikacją jest, że ze słabej jakości danych powstanie słabej jakości klasyfikator.\n"
   ]
  },
  {
   "cell_type": "code",
   "execution_count": 1,
   "metadata": {},
   "outputs": [
    {
     "output_type": "execute_result",
     "data": {
      "text/plain": [
       "   passengerId  pclass  survived  \\\n",
       "0            0       1         1   \n",
       "1            1       1         1   \n",
       "2            2       1         0   \n",
       "3            3       1         0   \n",
       "4            4       1         0   \n",
       "\n",
       "                                              name     sex      age  sibsp  \\\n",
       "0                    Allen, Miss. Elisabeth Walton  female  29.0000      0   \n",
       "1                   Allison, Master. Hudson Trevor    male   0.9167      1   \n",
       "2                     Allison, Miss. Helen Loraine  female   2.0000      1   \n",
       "3             Allison, Mr. Hudson Joshua Creighton    male  30.0000      1   \n",
       "4  Allison, Mrs. Hudson J C (Bessie Waldo Daniels)  female  25.0000      1   \n",
       "\n",
       "   parch  ticket      fare    cabin embarked  \n",
       "0      0   24160  211.3375       B5        S  \n",
       "1      2  113781  151.5500  C22 C26        S  \n",
       "2      2  113781  151.5500  C22 C26        S  \n",
       "3      2  113781  151.5500  C22 C26        S  \n",
       "4      2  113781  151.5500  C22 C26        S  "
      ],
      "text/html": "<div>\n<style scoped>\n    .dataframe tbody tr th:only-of-type {\n        vertical-align: middle;\n    }\n\n    .dataframe tbody tr th {\n        vertical-align: top;\n    }\n\n    .dataframe thead th {\n        text-align: right;\n    }\n</style>\n<table border=\"1\" class=\"dataframe\">\n  <thead>\n    <tr style=\"text-align: right;\">\n      <th></th>\n      <th>passengerId</th>\n      <th>pclass</th>\n      <th>survived</th>\n      <th>name</th>\n      <th>sex</th>\n      <th>age</th>\n      <th>sibsp</th>\n      <th>parch</th>\n      <th>ticket</th>\n      <th>fare</th>\n      <th>cabin</th>\n      <th>embarked</th>\n    </tr>\n  </thead>\n  <tbody>\n    <tr>\n      <th>0</th>\n      <td>0</td>\n      <td>1</td>\n      <td>1</td>\n      <td>Allen, Miss. Elisabeth Walton</td>\n      <td>female</td>\n      <td>29.0000</td>\n      <td>0</td>\n      <td>0</td>\n      <td>24160</td>\n      <td>211.3375</td>\n      <td>B5</td>\n      <td>S</td>\n    </tr>\n    <tr>\n      <th>1</th>\n      <td>1</td>\n      <td>1</td>\n      <td>1</td>\n      <td>Allison, Master. Hudson Trevor</td>\n      <td>male</td>\n      <td>0.9167</td>\n      <td>1</td>\n      <td>2</td>\n      <td>113781</td>\n      <td>151.5500</td>\n      <td>C22 C26</td>\n      <td>S</td>\n    </tr>\n    <tr>\n      <th>2</th>\n      <td>2</td>\n      <td>1</td>\n      <td>0</td>\n      <td>Allison, Miss. Helen Loraine</td>\n      <td>female</td>\n      <td>2.0000</td>\n      <td>1</td>\n      <td>2</td>\n      <td>113781</td>\n      <td>151.5500</td>\n      <td>C22 C26</td>\n      <td>S</td>\n    </tr>\n    <tr>\n      <th>3</th>\n      <td>3</td>\n      <td>1</td>\n      <td>0</td>\n      <td>Allison, Mr. Hudson Joshua Creighton</td>\n      <td>male</td>\n      <td>30.0000</td>\n      <td>1</td>\n      <td>2</td>\n      <td>113781</td>\n      <td>151.5500</td>\n      <td>C22 C26</td>\n      <td>S</td>\n    </tr>\n    <tr>\n      <th>4</th>\n      <td>4</td>\n      <td>1</td>\n      <td>0</td>\n      <td>Allison, Mrs. Hudson J C (Bessie Waldo Daniels)</td>\n      <td>female</td>\n      <td>25.0000</td>\n      <td>1</td>\n      <td>2</td>\n      <td>113781</td>\n      <td>151.5500</td>\n      <td>C22 C26</td>\n      <td>S</td>\n    </tr>\n  </tbody>\n</table>\n</div>"
     },
     "metadata": {},
     "execution_count": 1
    }
   ],
   "source": [
    "import pandas as pd\n",
    "import numpy as np\n",
    "import matplotlib.pyplot as plt\n",
    "%matplotlib inline\n",
    "import seaborn as sns\n",
    "\n",
    "data = pd.read_csv('./input/titanic.csv')\n",
    "data.head()"
   ]
  },
  {
   "source": [
    "Do danych wprowadzimy kilka korekt, które ułatwią nam pracę nad klasyfikatorem.\n",
    "#### Niepotrzebne informacje\n",
    "\n",
    "PassangerId jednoznacznie wyznacza imię i nazwisko pasażera więc możemy kolumne `Name` usunąć ze zbioru uwzględnianych danych nie tracąc żadnej informacji. Pozbycie się tych danych jest pożądane ponieważ chcemy dane zamienić na wartości liczbowe\n",
    "Usuniemy również kolumnę `Ticket`, ponieważ numer identyfiakcyjny logicznie nie ma znaczenia w przypadku przeżycia danego pasażera"
   ],
   "cell_type": "markdown",
   "metadata": {}
  },
  {
   "cell_type": "code",
   "execution_count": 2,
   "metadata": {},
   "outputs": [
    {
     "output_type": "execute_result",
     "data": {
      "text/plain": [
       "   passengerId  pclass  survived     sex      age  sibsp  parch      fare  \\\n",
       "0            0       1         1  female  29.0000      0      0  211.3375   \n",
       "1            1       1         1    male   0.9167      1      2  151.5500   \n",
       "2            2       1         0  female   2.0000      1      2  151.5500   \n",
       "3            3       1         0    male  30.0000      1      2  151.5500   \n",
       "4            4       1         0  female  25.0000      1      2  151.5500   \n",
       "\n",
       "     cabin embarked  \n",
       "0       B5        S  \n",
       "1  C22 C26        S  \n",
       "2  C22 C26        S  \n",
       "3  C22 C26        S  \n",
       "4  C22 C26        S  "
      ],
      "text/html": "<div>\n<style scoped>\n    .dataframe tbody tr th:only-of-type {\n        vertical-align: middle;\n    }\n\n    .dataframe tbody tr th {\n        vertical-align: top;\n    }\n\n    .dataframe thead th {\n        text-align: right;\n    }\n</style>\n<table border=\"1\" class=\"dataframe\">\n  <thead>\n    <tr style=\"text-align: right;\">\n      <th></th>\n      <th>passengerId</th>\n      <th>pclass</th>\n      <th>survived</th>\n      <th>sex</th>\n      <th>age</th>\n      <th>sibsp</th>\n      <th>parch</th>\n      <th>fare</th>\n      <th>cabin</th>\n      <th>embarked</th>\n    </tr>\n  </thead>\n  <tbody>\n    <tr>\n      <th>0</th>\n      <td>0</td>\n      <td>1</td>\n      <td>1</td>\n      <td>female</td>\n      <td>29.0000</td>\n      <td>0</td>\n      <td>0</td>\n      <td>211.3375</td>\n      <td>B5</td>\n      <td>S</td>\n    </tr>\n    <tr>\n      <th>1</th>\n      <td>1</td>\n      <td>1</td>\n      <td>1</td>\n      <td>male</td>\n      <td>0.9167</td>\n      <td>1</td>\n      <td>2</td>\n      <td>151.5500</td>\n      <td>C22 C26</td>\n      <td>S</td>\n    </tr>\n    <tr>\n      <th>2</th>\n      <td>2</td>\n      <td>1</td>\n      <td>0</td>\n      <td>female</td>\n      <td>2.0000</td>\n      <td>1</td>\n      <td>2</td>\n      <td>151.5500</td>\n      <td>C22 C26</td>\n      <td>S</td>\n    </tr>\n    <tr>\n      <th>3</th>\n      <td>3</td>\n      <td>1</td>\n      <td>0</td>\n      <td>male</td>\n      <td>30.0000</td>\n      <td>1</td>\n      <td>2</td>\n      <td>151.5500</td>\n      <td>C22 C26</td>\n      <td>S</td>\n    </tr>\n    <tr>\n      <th>4</th>\n      <td>4</td>\n      <td>1</td>\n      <td>0</td>\n      <td>female</td>\n      <td>25.0000</td>\n      <td>1</td>\n      <td>2</td>\n      <td>151.5500</td>\n      <td>C22 C26</td>\n      <td>S</td>\n    </tr>\n  </tbody>\n</table>\n</div>"
     },
     "metadata": {},
     "execution_count": 2
    }
   ],
   "source": [
    "data = data.drop('name',1)\n",
    "data = data.drop('ticket',1)\n",
    "data.head()"
   ]
  },
  {
   "source": [
    "#### Brakujące informacje\n",
    "Sprawdzimy następnie jak dużo brakuje danych w dostarczonym zestawie"
   ],
   "cell_type": "markdown",
   "metadata": {}
  },
  {
   "cell_type": "code",
   "execution_count": 3,
   "metadata": {},
   "outputs": [
    {
     "output_type": "execute_result",
     "data": {
      "text/plain": [
       "passengerId       0\n",
       "pclass            0\n",
       "survived          0\n",
       "sex               0\n",
       "age             263\n",
       "sibsp             0\n",
       "parch             0\n",
       "fare              1\n",
       "cabin          1014\n",
       "embarked          2\n",
       "dtype: int64"
      ]
     },
     "metadata": {},
     "execution_count": 3
    }
   ],
   "source": [
    "data.isnull().sum(axis=0)"
   ]
  },
  {
   "source": [
    "Widać, że około 1/5 pasażerów nie ma podanego wieku oraz brakuje aż 5/6 kabin. Wszystkich wpisów w zbiorze danych jest tylko 1304 więc dane o kabinach odrzucimy. Jedynym sposobem na poradzenie sobie z brakującymi danymi byłoby przypisanie kabinom ich średnich cen w ich obszarze i korelacji z polem `fare` u danego pasażera. Jednak jeżeli taka korelacja by występowała to bez straty możemy zostawić samo polę fare."
   ],
   "cell_type": "markdown",
   "metadata": {}
  },
  {
   "cell_type": "code",
   "execution_count": 4,
   "metadata": {},
   "outputs": [],
   "source": [
    "data = data.drop('cabin',1)\n"
   ]
  },
  {
   "source": [
    "Pozostaje uzupełnić pozostałe brakujące dane. Obliczymy najczęsciej występującą wartość w `embarked` oraz średnią cenę za bilet dla fare\n"
   ],
   "cell_type": "markdown",
   "metadata": {}
  },
  {
   "cell_type": "code",
   "execution_count": 5,
   "metadata": {},
   "outputs": [
    {
     "output_type": "stream",
     "name": "stdout",
     "text": [
      "Najwięcej występującą wartością pola embarked jest:  ('S', 914)\nŚrednia opłata za bilet:  33.29547928134557\n"
     ]
    }
   ],
   "source": [
    "from collections import Counter\n",
    "\n",
    "embarked_counter = Counter(data['embarked'])\n",
    "print(\"Najwięcej występującą wartością pola embarked jest: \",embarked_counter.most_common(1)[0])\n",
    "fare_mean = np.mean(data['fare'])\n",
    "print(\"Średnia opłata za bilet: \", fare_mean)"
   ]
  },
  {
   "source": [
    "W takim razie pole `age` uzupełnimy posługując się rozkładem normalnym, a pola `embarked` wartością `S`"
   ],
   "cell_type": "markdown",
   "metadata": {}
  },
  {
   "cell_type": "code",
   "execution_count": 6,
   "metadata": {},
   "outputs": [],
   "source": [
    "index = data[data.age.isna()].index\n",
    "value = np.random.normal(loc=data.age.mean(), scale=data.age.std(), size=data.age.isna().sum())\n",
    "data.age.fillna(pd.Series(value, index=index).abs(), inplace=True)\n",
    "data.embarked.fillna('S', inplace=True)\n",
    "data.fare.fillna(fare_mean, inplace=True)\n"
   ]
  },
  {
   "source": [
    "Po uzupełnieniu luk w danych ostatnie co należy zrobić przed rozpoczęciem kroswalidacji to przekształcenie pól typu `string` na pola typu liczbowego"
   ],
   "cell_type": "markdown",
   "metadata": {}
  },
  {
   "cell_type": "code",
   "execution_count": 7,
   "metadata": {},
   "outputs": [
    {
     "output_type": "execute_result",
     "data": {
      "text/plain": [
       "       passengerId       pclass     survived          sex          age  \\\n",
       "count  1309.000000  1309.000000  1309.000000  1309.000000  1309.000000   \n",
       "mean    654.000000     2.294882     0.381971     1.355997    29.431364   \n",
       "std     378.020061     0.837836     0.486055     0.478997    14.208852   \n",
       "min       0.000000     1.000000     0.000000     1.000000     0.166700   \n",
       "25%     327.000000     2.000000     0.000000     1.000000    20.619841   \n",
       "50%     654.000000     3.000000     0.000000     1.000000    28.000000   \n",
       "75%     981.000000     3.000000     1.000000     2.000000    38.000000   \n",
       "max    1308.000000     3.000000     1.000000     2.000000    80.000000   \n",
       "\n",
       "             sibsp        parch         fare     embarked  \n",
       "count  1309.000000  1309.000000  1309.000000  1309.000000  \n",
       "mean      0.498854     0.385027    33.295479     1.506494  \n",
       "std       1.041658     0.865560    51.738879     0.814244  \n",
       "min       0.000000     0.000000     0.000000     1.000000  \n",
       "25%       0.000000     0.000000     7.895800     1.000000  \n",
       "50%       0.000000     0.000000    14.454200     1.000000  \n",
       "75%       1.000000     0.000000    31.275000     2.000000  \n",
       "max       8.000000     9.000000   512.329200     3.000000  "
      ],
      "text/html": "<div>\n<style scoped>\n    .dataframe tbody tr th:only-of-type {\n        vertical-align: middle;\n    }\n\n    .dataframe tbody tr th {\n        vertical-align: top;\n    }\n\n    .dataframe thead th {\n        text-align: right;\n    }\n</style>\n<table border=\"1\" class=\"dataframe\">\n  <thead>\n    <tr style=\"text-align: right;\">\n      <th></th>\n      <th>passengerId</th>\n      <th>pclass</th>\n      <th>survived</th>\n      <th>sex</th>\n      <th>age</th>\n      <th>sibsp</th>\n      <th>parch</th>\n      <th>fare</th>\n      <th>embarked</th>\n    </tr>\n  </thead>\n  <tbody>\n    <tr>\n      <th>count</th>\n      <td>1309.000000</td>\n      <td>1309.000000</td>\n      <td>1309.000000</td>\n      <td>1309.000000</td>\n      <td>1309.000000</td>\n      <td>1309.000000</td>\n      <td>1309.000000</td>\n      <td>1309.000000</td>\n      <td>1309.000000</td>\n    </tr>\n    <tr>\n      <th>mean</th>\n      <td>654.000000</td>\n      <td>2.294882</td>\n      <td>0.381971</td>\n      <td>1.355997</td>\n      <td>29.431364</td>\n      <td>0.498854</td>\n      <td>0.385027</td>\n      <td>33.295479</td>\n      <td>1.506494</td>\n    </tr>\n    <tr>\n      <th>std</th>\n      <td>378.020061</td>\n      <td>0.837836</td>\n      <td>0.486055</td>\n      <td>0.478997</td>\n      <td>14.208852</td>\n      <td>1.041658</td>\n      <td>0.865560</td>\n      <td>51.738879</td>\n      <td>0.814244</td>\n    </tr>\n    <tr>\n      <th>min</th>\n      <td>0.000000</td>\n      <td>1.000000</td>\n      <td>0.000000</td>\n      <td>1.000000</td>\n      <td>0.166700</td>\n      <td>0.000000</td>\n      <td>0.000000</td>\n      <td>0.000000</td>\n      <td>1.000000</td>\n    </tr>\n    <tr>\n      <th>25%</th>\n      <td>327.000000</td>\n      <td>2.000000</td>\n      <td>0.000000</td>\n      <td>1.000000</td>\n      <td>20.619841</td>\n      <td>0.000000</td>\n      <td>0.000000</td>\n      <td>7.895800</td>\n      <td>1.000000</td>\n    </tr>\n    <tr>\n      <th>50%</th>\n      <td>654.000000</td>\n      <td>3.000000</td>\n      <td>0.000000</td>\n      <td>1.000000</td>\n      <td>28.000000</td>\n      <td>0.000000</td>\n      <td>0.000000</td>\n      <td>14.454200</td>\n      <td>1.000000</td>\n    </tr>\n    <tr>\n      <th>75%</th>\n      <td>981.000000</td>\n      <td>3.000000</td>\n      <td>1.000000</td>\n      <td>2.000000</td>\n      <td>38.000000</td>\n      <td>1.000000</td>\n      <td>0.000000</td>\n      <td>31.275000</td>\n      <td>2.000000</td>\n    </tr>\n    <tr>\n      <th>max</th>\n      <td>1308.000000</td>\n      <td>3.000000</td>\n      <td>1.000000</td>\n      <td>2.000000</td>\n      <td>80.000000</td>\n      <td>8.000000</td>\n      <td>9.000000</td>\n      <td>512.329200</td>\n      <td>3.000000</td>\n    </tr>\n  </tbody>\n</table>\n</div>"
     },
     "metadata": {},
     "execution_count": 7
    }
   ],
   "source": [
    "gender = {'male': 1, 'female': 2}\n",
    "embarked_from = {'S':1, 'Q':2, 'C':3}\n",
    "\n",
    "data.sex = [gender[item] for item in data.sex]\n",
    "data.embarked = [embarked_from[item] for item in data.embarked]\n",
    "data.describe()"
   ]
  },
  {
   "source": [
    "### Weryfikacja niezależnośći zmiennych losowych\n",
    "Naiwność klasyfikatora bayesowskiego opiera sie na tym, że naiwnie zakłada on niezależność wszystkich zmiennych losowych. Aby uniknąć nadużycia tej naiwności zbadamy zależnosci pomiędzy każdymi dwoma parametrami. Posłużymy się do tego współczynnikiem korelacji Pearsona. Polega on na obliczeniu ilorazu kowariancji i iloczynu odchyleń standardowych zmiennych losowych. Kowariancja w tym wzorze to liczba określająca odchylenie elementów od sytuacji w której występuje zależność liniowa.\n",
    "\n",
    "$$\n",
    "r_{XY} = \\frac{cov(X,Y)}{\\sigma_X \\sigma_Y}\n",
    "$$\n",
    "\n",
    "Dla takiej miary współczynnik korelacji będzie zawsze w przedziale $[-1, 1]$. Im bliżej jedynki tym bliżej do sytuacji proporcjonalnej, a im bliżej -1 tym bliżej do odwrotnie proporcjonalnej. Zbadamy zestaw naszych parametrów używając tego wpółczynnika"
   ],
   "cell_type": "markdown",
   "metadata": {}
  },
  {
   "source": [
    "corr = data.corr(method='pearson')\n",
    "sns.heatmap(corr)\n",
    "plt.show()"
   ],
   "cell_type": "code",
   "metadata": {},
   "execution_count": 8,
   "outputs": [
    {
     "output_type": "display_data",
     "data": {
      "text/plain": "<Figure size 432x288 with 2 Axes>",
      "image/svg+xml": "<?xml version=\"1.0\" encoding=\"utf-8\" standalone=\"no\"?>\n<!DOCTYPE svg PUBLIC \"-//W3C//DTD SVG 1.1//EN\"\n  \"http://www.w3.org/Graphics/SVG/1.1/DTD/svg11.dtd\">\n<svg height=\"303.936094pt\" version=\"1.1\" viewBox=\"0 0 409.431687 303.936094\" width=\"409.431687pt\" xmlns=\"http://www.w3.org/2000/svg\" xmlns:xlink=\"http://www.w3.org/1999/xlink\">\n <metadata>\n  <rdf:RDF xmlns:cc=\"http://creativecommons.org/ns#\" xmlns:dc=\"http://purl.org/dc/elements/1.1/\" xmlns:rdf=\"http://www.w3.org/1999/02/22-rdf-syntax-ns#\">\n   <cc:Work>\n    <dc:type rdf:resource=\"http://purl.org/dc/dcmitype/StillImage\"/>\n    <dc:date>2021-06-12T12:03:01.464041</dc:date>\n    <dc:format>image/svg+xml</dc:format>\n    <dc:creator>\n     <cc:Agent>\n      <dc:title>Matplotlib v3.4.2, https://matplotlib.org/</dc:title>\n     </cc:Agent>\n    </dc:creator>\n   </cc:Work>\n  </rdf:RDF>\n </metadata>\n <defs>\n  <style type=\"text/css\">*{stroke-linecap:butt;stroke-linejoin:round;}</style>\n </defs>\n <g id=\"figure_1\">\n  <g id=\"patch_1\">\n   <path d=\"M 0 303.936094 \nL 409.431687 303.936094 \nL 409.431687 0 \nL 0 0 \nz\n\" style=\"fill:none;\"/>\n  </g>\n  <g id=\"axes_1\">\n   <g id=\"patch_2\">\n    <path d=\"M 75.496875 228.439219 \nL 343.336875 228.439219 \nL 343.336875 10.999219 \nL 75.496875 10.999219 \nz\n\" style=\"fill:#ffffff;\"/>\n   </g>\n   <g id=\"QuadMesh_1\">\n    <path clip-path=\"url(#p395d4fc958)\" d=\"M 75.496875 10.999219 \nL 105.256875 10.999219 \nL 105.256875 35.159219 \nL 75.496875 35.159219 \nL 75.496875 10.999219 \n\" style=\"fill:#faebdd;\"/>\n    <path clip-path=\"url(#p395d4fc958)\" d=\"M 105.256875 10.999219 \nL 135.016875 10.999219 \nL 135.016875 35.159219 \nL 105.256875 35.159219 \nL 105.256875 10.999219 \n\" style=\"fill:#f8d3ba;\"/>\n    <path clip-path=\"url(#p395d4fc958)\" d=\"M 135.016875 10.999219 \nL 164.776875 10.999219 \nL 164.776875 35.159219 \nL 135.016875 35.159219 \nL 135.016875 10.999219 \n\" style=\"fill:#401b44;\"/>\n    <path clip-path=\"url(#p395d4fc958)\" d=\"M 164.776875 10.999219 \nL 194.536875 10.999219 \nL 194.536875 35.159219 \nL 164.776875 35.159219 \nL 164.776875 10.999219 \n\" style=\"fill:#6d1f56;\"/>\n    <path clip-path=\"url(#p395d4fc958)\" d=\"M 194.536875 10.999219 \nL 224.296875 10.999219 \nL 224.296875 35.159219 \nL 194.536875 35.159219 \nL 194.536875 10.999219 \n\" style=\"fill:#421b45;\"/>\n    <path clip-path=\"url(#p395d4fc958)\" d=\"M 224.296875 10.999219 \nL 254.056875 10.999219 \nL 254.056875 35.159219 \nL 224.296875 35.159219 \nL 224.296875 10.999219 \n\" style=\"fill:#a11a5b;\"/>\n    <path clip-path=\"url(#p395d4fc958)\" d=\"M 254.056875 10.999219 \nL 283.816875 10.999219 \nL 283.816875 35.159219 \nL 254.056875 35.159219 \nL 254.056875 10.999219 \n\" style=\"fill:#901d5b;\"/>\n    <path clip-path=\"url(#p395d4fc958)\" d=\"M 283.816875 10.999219 \nL 313.576875 10.999219 \nL 313.576875 35.159219 \nL 283.816875 35.159219 \nL 283.816875 10.999219 \n\" style=\"fill:#130d25;\"/>\n    <path clip-path=\"url(#p395d4fc958)\" d=\"M 313.576875 10.999219 \nL 343.336875 10.999219 \nL 343.336875 35.159219 \nL 313.576875 35.159219 \nL 313.576875 10.999219 \n\" style=\"fill:#691f55;\"/>\n    <path clip-path=\"url(#p395d4fc958)\" d=\"M 75.496875 35.159219 \nL 105.256875 35.159219 \nL 105.256875 59.319219 \nL 75.496875 59.319219 \nL 75.496875 35.159219 \n\" style=\"fill:#f8d3ba;\"/>\n    <path clip-path=\"url(#p395d4fc958)\" d=\"M 105.256875 35.159219 \nL 135.016875 35.159219 \nL 135.016875 59.319219 \nL 105.256875 59.319219 \nL 105.256875 35.159219 \n\" style=\"fill:#faebdd;\"/>\n    <path clip-path=\"url(#p395d4fc958)\" d=\"M 135.016875 35.159219 \nL 164.776875 35.159219 \nL 164.776875 59.319219 \nL 135.016875 59.319219 \nL 135.016875 35.159219 \n\" style=\"fill:#3c1a42;\"/>\n    <path clip-path=\"url(#p395d4fc958)\" d=\"M 164.776875 35.159219 \nL 194.536875 35.159219 \nL 194.536875 59.319219 \nL 164.776875 59.319219 \nL 164.776875 35.159219 \n\" style=\"fill:#6d1f56;\"/>\n    <path clip-path=\"url(#p395d4fc958)\" d=\"M 194.536875 35.159219 \nL 224.296875 35.159219 \nL 224.296875 59.319219 \nL 194.536875 59.319219 \nL 194.536875 35.159219 \n\" style=\"fill:#34193d;\"/>\n    <path clip-path=\"url(#p395d4fc958)\" d=\"M 224.296875 35.159219 \nL 254.056875 35.159219 \nL 254.056875 59.319219 \nL 224.296875 59.319219 \nL 224.296875 35.159219 \n\" style=\"fill:#9f1a5b;\"/>\n    <path clip-path=\"url(#p395d4fc958)\" d=\"M 254.056875 35.159219 \nL 283.816875 35.159219 \nL 283.816875 59.319219 \nL 254.056875 59.319219 \nL 254.056875 35.159219 \n\" style=\"fill:#931c5b;\"/>\n    <path clip-path=\"url(#p395d4fc958)\" d=\"M 283.816875 35.159219 \nL 313.576875 35.159219 \nL 313.576875 59.319219 \nL 283.816875 59.319219 \nL 283.816875 35.159219 \n\" style=\"fill:#03051a;\"/>\n    <path clip-path=\"url(#p395d4fc958)\" d=\"M 313.576875 35.159219 \nL 343.336875 35.159219 \nL 343.336875 59.319219 \nL 313.576875 59.319219 \nL 313.576875 35.159219 \n\" style=\"fill:#5c1e51;\"/>\n    <path clip-path=\"url(#p395d4fc958)\" d=\"M 75.496875 59.319219 \nL 105.256875 59.319219 \nL 105.256875 83.479219 \nL 75.496875 83.479219 \nL 75.496875 59.319219 \n\" style=\"fill:#401b44;\"/>\n    <path clip-path=\"url(#p395d4fc958)\" d=\"M 105.256875 59.319219 \nL 135.016875 59.319219 \nL 135.016875 83.479219 \nL 105.256875 83.479219 \nL 105.256875 59.319219 \n\" style=\"fill:#3c1a42;\"/>\n    <path clip-path=\"url(#p395d4fc958)\" d=\"M 135.016875 59.319219 \nL 164.776875 59.319219 \nL 164.776875 83.479219 \nL 135.016875 83.479219 \nL 135.016875 59.319219 \n\" style=\"fill:#faebdd;\"/>\n    <path clip-path=\"url(#p395d4fc958)\" d=\"M 164.776875 59.319219 \nL 194.536875 59.319219 \nL 194.536875 83.479219 \nL 164.776875 83.479219 \nL 164.776875 59.319219 \n\" style=\"fill:#f26f4c;\"/>\n    <path clip-path=\"url(#p395d4fc958)\" d=\"M 194.536875 59.319219 \nL 224.296875 59.319219 \nL 224.296875 83.479219 \nL 194.536875 83.479219 \nL 194.536875 59.319219 \n\" style=\"fill:#811e5a;\"/>\n    <path clip-path=\"url(#p395d4fc958)\" d=\"M 224.296875 59.319219 \nL 254.056875 59.319219 \nL 254.056875 83.479219 \nL 224.296875 83.479219 \nL 224.296875 59.319219 \n\" style=\"fill:#871e5b;\"/>\n    <path clip-path=\"url(#p395d4fc958)\" d=\"M 254.056875 59.319219 \nL 283.816875 59.319219 \nL 283.816875 83.479219 \nL 254.056875 83.479219 \nL 254.056875 59.319219 \n\" style=\"fill:#a6195a;\"/>\n    <path clip-path=\"url(#p395d4fc958)\" d=\"M 283.816875 59.319219 \nL 313.576875 59.319219 \nL 313.576875 83.479219 \nL 283.816875 83.479219 \nL 283.816875 59.319219 \n\" style=\"fill:#cf1e4d;\"/>\n    <path clip-path=\"url(#p395d4fc958)\" d=\"M 313.576875 59.319219 \nL 343.336875 59.319219 \nL 343.336875 83.479219 \nL 313.576875 83.479219 \nL 313.576875 59.319219 \n\" style=\"fill:#bf1654;\"/>\n    <path clip-path=\"url(#p395d4fc958)\" d=\"M 75.496875 83.479219 \nL 105.256875 83.479219 \nL 105.256875 107.639219 \nL 75.496875 107.639219 \nL 75.496875 83.479219 \n\" style=\"fill:#6d1f56;\"/>\n    <path clip-path=\"url(#p395d4fc958)\" d=\"M 105.256875 83.479219 \nL 135.016875 83.479219 \nL 135.016875 107.639219 \nL 105.256875 107.639219 \nL 105.256875 83.479219 \n\" style=\"fill:#6d1f56;\"/>\n    <path clip-path=\"url(#p395d4fc958)\" d=\"M 135.016875 83.479219 \nL 164.776875 83.479219 \nL 164.776875 107.639219 \nL 135.016875 107.639219 \nL 135.016875 83.479219 \n\" style=\"fill:#f26f4c;\"/>\n    <path clip-path=\"url(#p395d4fc958)\" d=\"M 164.776875 83.479219 \nL 194.536875 83.479219 \nL 194.536875 107.639219 \nL 164.776875 107.639219 \nL 164.776875 83.479219 \n\" style=\"fill:#faebdd;\"/>\n    <path clip-path=\"url(#p395d4fc958)\" d=\"M 194.536875 83.479219 \nL 224.296875 83.479219 \nL 224.296875 107.639219 \nL 194.536875 107.639219 \nL 194.536875 83.479219 \n\" style=\"fill:#7d1f5a;\"/>\n    <path clip-path=\"url(#p395d4fc958)\" d=\"M 224.296875 83.479219 \nL 254.056875 83.479219 \nL 254.056875 107.639219 \nL 224.296875 107.639219 \nL 224.296875 83.479219 \n\" style=\"fill:#ad1759;\"/>\n    <path clip-path=\"url(#p395d4fc958)\" d=\"M 254.056875 83.479219 \nL 283.816875 83.479219 \nL 283.816875 107.639219 \nL 254.056875 107.639219 \nL 254.056875 83.479219 \n\" style=\"fill:#c81951;\"/>\n    <path clip-path=\"url(#p395d4fc958)\" d=\"M 283.816875 83.479219 \nL 313.576875 83.479219 \nL 313.576875 107.639219 \nL 283.816875 107.639219 \nL 283.816875 83.479219 \n\" style=\"fill:#c21753;\"/>\n    <path clip-path=\"url(#p395d4fc958)\" d=\"M 313.576875 83.479219 \nL 343.336875 83.479219 \nL 343.336875 107.639219 \nL 313.576875 107.639219 \nL 313.576875 83.479219 \n\" style=\"fill:#aa185a;\"/>\n    <path clip-path=\"url(#p395d4fc958)\" d=\"M 75.496875 107.639219 \nL 105.256875 107.639219 \nL 105.256875 131.799219 \nL 75.496875 131.799219 \nL 75.496875 107.639219 \n\" style=\"fill:#421b45;\"/>\n    <path clip-path=\"url(#p395d4fc958)\" d=\"M 105.256875 107.639219 \nL 135.016875 107.639219 \nL 135.016875 131.799219 \nL 105.256875 131.799219 \nL 105.256875 107.639219 \n\" style=\"fill:#34193d;\"/>\n    <path clip-path=\"url(#p395d4fc958)\" d=\"M 135.016875 107.639219 \nL 164.776875 107.639219 \nL 164.776875 131.799219 \nL 135.016875 131.799219 \nL 135.016875 107.639219 \n\" style=\"fill:#811e5a;\"/>\n    <path clip-path=\"url(#p395d4fc958)\" d=\"M 164.776875 107.639219 \nL 194.536875 107.639219 \nL 194.536875 131.799219 \nL 164.776875 131.799219 \nL 164.776875 107.639219 \n\" style=\"fill:#7d1f5a;\"/>\n    <path clip-path=\"url(#p395d4fc958)\" d=\"M 194.536875 107.639219 \nL 224.296875 107.639219 \nL 224.296875 131.799219 \nL 194.536875 131.799219 \nL 194.536875 107.639219 \n\" style=\"fill:#faebdd;\"/>\n    <path clip-path=\"url(#p395d4fc958)\" d=\"M 224.296875 107.639219 \nL 254.056875 107.639219 \nL 254.056875 131.799219 \nL 224.296875 131.799219 \nL 224.296875 107.639219 \n\" style=\"fill:#5c1e51;\"/>\n    <path clip-path=\"url(#p395d4fc958)\" d=\"M 254.056875 107.639219 \nL 283.816875 107.639219 \nL 283.816875 131.799219 \nL 254.056875 131.799219 \nL 254.056875 107.639219 \n\" style=\"fill:#731f58;\"/>\n    <path clip-path=\"url(#p395d4fc958)\" d=\"M 283.816875 107.639219 \nL 313.576875 107.639219 \nL 313.576875 131.799219 \nL 283.816875 131.799219 \nL 283.816875 107.639219 \n\" style=\"fill:#bc1656;\"/>\n    <path clip-path=\"url(#p395d4fc958)\" d=\"M 313.576875 107.639219 \nL 343.336875 107.639219 \nL 343.336875 131.799219 \nL 313.576875 131.799219 \nL 313.576875 107.639219 \n\" style=\"fill:#a11a5b;\"/>\n    <path clip-path=\"url(#p395d4fc958)\" d=\"M 75.496875 131.799219 \nL 105.256875 131.799219 \nL 105.256875 155.959219 \nL 75.496875 155.959219 \nL 75.496875 131.799219 \n\" style=\"fill:#a11a5b;\"/>\n    <path clip-path=\"url(#p395d4fc958)\" d=\"M 105.256875 131.799219 \nL 135.016875 131.799219 \nL 135.016875 155.959219 \nL 105.256875 155.959219 \nL 105.256875 131.799219 \n\" style=\"fill:#9f1a5b;\"/>\n    <path clip-path=\"url(#p395d4fc958)\" d=\"M 135.016875 131.799219 \nL 164.776875 131.799219 \nL 164.776875 155.959219 \nL 135.016875 155.959219 \nL 135.016875 131.799219 \n\" style=\"fill:#871e5b;\"/>\n    <path clip-path=\"url(#p395d4fc958)\" d=\"M 164.776875 131.799219 \nL 194.536875 131.799219 \nL 194.536875 155.959219 \nL 164.776875 155.959219 \nL 164.776875 131.799219 \n\" style=\"fill:#ad1759;\"/>\n    <path clip-path=\"url(#p395d4fc958)\" d=\"M 194.536875 131.799219 \nL 224.296875 131.799219 \nL 224.296875 155.959219 \nL 194.536875 155.959219 \nL 194.536875 131.799219 \n\" style=\"fill:#5c1e51;\"/>\n    <path clip-path=\"url(#p395d4fc958)\" d=\"M 224.296875 131.799219 \nL 254.056875 131.799219 \nL 254.056875 155.959219 \nL 224.296875 155.959219 \nL 224.296875 131.799219 \n\" style=\"fill:#faebdd;\"/>\n    <path clip-path=\"url(#p395d4fc958)\" d=\"M 254.056875 131.799219 \nL 283.816875 131.799219 \nL 283.816875 155.959219 \nL 254.056875 155.959219 \nL 254.056875 131.799219 \n\" style=\"fill:#e83f3f;\"/>\n    <path clip-path=\"url(#p395d4fc958)\" d=\"M 283.816875 131.799219 \nL 313.576875 131.799219 \nL 313.576875 155.959219 \nL 283.816875 155.959219 \nL 283.816875 131.799219 \n\" style=\"fill:#bc1656;\"/>\n    <path clip-path=\"url(#p395d4fc958)\" d=\"M 313.576875 131.799219 \nL 343.336875 131.799219 \nL 343.336875 155.959219 \nL 313.576875 155.959219 \nL 313.576875 131.799219 \n\" style=\"fill:#7b1f59;\"/>\n    <path clip-path=\"url(#p395d4fc958)\" d=\"M 75.496875 155.959219 \nL 105.256875 155.959219 \nL 105.256875 180.119219 \nL 75.496875 180.119219 \nL 75.496875 155.959219 \n\" style=\"fill:#901d5b;\"/>\n    <path clip-path=\"url(#p395d4fc958)\" d=\"M 105.256875 155.959219 \nL 135.016875 155.959219 \nL 135.016875 180.119219 \nL 105.256875 180.119219 \nL 105.256875 155.959219 \n\" style=\"fill:#931c5b;\"/>\n    <path clip-path=\"url(#p395d4fc958)\" d=\"M 135.016875 155.959219 \nL 164.776875 155.959219 \nL 164.776875 180.119219 \nL 135.016875 180.119219 \nL 135.016875 155.959219 \n\" style=\"fill:#a6195a;\"/>\n    <path clip-path=\"url(#p395d4fc958)\" d=\"M 164.776875 155.959219 \nL 194.536875 155.959219 \nL 194.536875 180.119219 \nL 164.776875 180.119219 \nL 164.776875 155.959219 \n\" style=\"fill:#c81951;\"/>\n    <path clip-path=\"url(#p395d4fc958)\" d=\"M 194.536875 155.959219 \nL 224.296875 155.959219 \nL 224.296875 180.119219 \nL 194.536875 180.119219 \nL 194.536875 155.959219 \n\" style=\"fill:#731f58;\"/>\n    <path clip-path=\"url(#p395d4fc958)\" d=\"M 224.296875 155.959219 \nL 254.056875 155.959219 \nL 254.056875 180.119219 \nL 224.296875 180.119219 \nL 224.296875 155.959219 \n\" style=\"fill:#e83f3f;\"/>\n    <path clip-path=\"url(#p395d4fc958)\" d=\"M 254.056875 155.959219 \nL 283.816875 155.959219 \nL 283.816875 180.119219 \nL 254.056875 180.119219 \nL 254.056875 155.959219 \n\" style=\"fill:#faebdd;\"/>\n    <path clip-path=\"url(#p395d4fc958)\" d=\"M 283.816875 155.959219 \nL 313.576875 155.959219 \nL 313.576875 180.119219 \nL 283.816875 180.119219 \nL 283.816875 155.959219 \n\" style=\"fill:#cb1b4f;\"/>\n    <path clip-path=\"url(#p395d4fc958)\" d=\"M 313.576875 155.959219 \nL 343.336875 155.959219 \nL 343.336875 180.119219 \nL 313.576875 180.119219 \nL 313.576875 155.959219 \n\" style=\"fill:#821e5a;\"/>\n    <path clip-path=\"url(#p395d4fc958)\" d=\"M 75.496875 180.119219 \nL 105.256875 180.119219 \nL 105.256875 204.279219 \nL 75.496875 204.279219 \nL 75.496875 180.119219 \n\" style=\"fill:#130d25;\"/>\n    <path clip-path=\"url(#p395d4fc958)\" d=\"M 105.256875 180.119219 \nL 135.016875 180.119219 \nL 135.016875 204.279219 \nL 105.256875 204.279219 \nL 105.256875 180.119219 \n\" style=\"fill:#03051a;\"/>\n    <path clip-path=\"url(#p395d4fc958)\" d=\"M 135.016875 180.119219 \nL 164.776875 180.119219 \nL 164.776875 204.279219 \nL 135.016875 204.279219 \nL 135.016875 180.119219 \n\" style=\"fill:#cf1e4d;\"/>\n    <path clip-path=\"url(#p395d4fc958)\" d=\"M 164.776875 180.119219 \nL 194.536875 180.119219 \nL 194.536875 204.279219 \nL 164.776875 204.279219 \nL 164.776875 180.119219 \n\" style=\"fill:#c21753;\"/>\n    <path clip-path=\"url(#p395d4fc958)\" d=\"M 194.536875 180.119219 \nL 224.296875 180.119219 \nL 224.296875 204.279219 \nL 194.536875 204.279219 \nL 194.536875 180.119219 \n\" style=\"fill:#bc1656;\"/>\n    <path clip-path=\"url(#p395d4fc958)\" d=\"M 224.296875 180.119219 \nL 254.056875 180.119219 \nL 254.056875 204.279219 \nL 224.296875 204.279219 \nL 224.296875 180.119219 \n\" style=\"fill:#bc1656;\"/>\n    <path clip-path=\"url(#p395d4fc958)\" d=\"M 254.056875 180.119219 \nL 283.816875 180.119219 \nL 283.816875 204.279219 \nL 254.056875 204.279219 \nL 254.056875 180.119219 \n\" style=\"fill:#cb1b4f;\"/>\n    <path clip-path=\"url(#p395d4fc958)\" d=\"M 283.816875 180.119219 \nL 313.576875 180.119219 \nL 313.576875 204.279219 \nL 283.816875 204.279219 \nL 283.816875 180.119219 \n\" style=\"fill:#faebdd;\"/>\n    <path clip-path=\"url(#p395d4fc958)\" d=\"M 313.576875 180.119219 \nL 343.336875 180.119219 \nL 343.336875 204.279219 \nL 313.576875 204.279219 \nL 313.576875 180.119219 \n\" style=\"fill:#ce1d4e;\"/>\n    <path clip-path=\"url(#p395d4fc958)\" d=\"M 75.496875 204.279219 \nL 105.256875 204.279219 \nL 105.256875 228.439219 \nL 75.496875 228.439219 \nL 75.496875 204.279219 \n\" style=\"fill:#691f55;\"/>\n    <path clip-path=\"url(#p395d4fc958)\" d=\"M 105.256875 204.279219 \nL 135.016875 204.279219 \nL 135.016875 228.439219 \nL 105.256875 228.439219 \nL 105.256875 204.279219 \n\" style=\"fill:#5c1e51;\"/>\n    <path clip-path=\"url(#p395d4fc958)\" d=\"M 135.016875 204.279219 \nL 164.776875 204.279219 \nL 164.776875 228.439219 \nL 135.016875 228.439219 \nL 135.016875 204.279219 \n\" style=\"fill:#bf1654;\"/>\n    <path clip-path=\"url(#p395d4fc958)\" d=\"M 164.776875 204.279219 \nL 194.536875 204.279219 \nL 194.536875 228.439219 \nL 164.776875 228.439219 \nL 164.776875 204.279219 \n\" style=\"fill:#aa185a;\"/>\n    <path clip-path=\"url(#p395d4fc958)\" d=\"M 194.536875 204.279219 \nL 224.296875 204.279219 \nL 224.296875 228.439219 \nL 194.536875 228.439219 \nL 194.536875 204.279219 \n\" style=\"fill:#a11a5b;\"/>\n    <path clip-path=\"url(#p395d4fc958)\" d=\"M 224.296875 204.279219 \nL 254.056875 204.279219 \nL 254.056875 228.439219 \nL 224.296875 228.439219 \nL 224.296875 204.279219 \n\" style=\"fill:#7b1f59;\"/>\n    <path clip-path=\"url(#p395d4fc958)\" d=\"M 254.056875 204.279219 \nL 283.816875 204.279219 \nL 283.816875 228.439219 \nL 254.056875 228.439219 \nL 254.056875 204.279219 \n\" style=\"fill:#821e5a;\"/>\n    <path clip-path=\"url(#p395d4fc958)\" d=\"M 283.816875 204.279219 \nL 313.576875 204.279219 \nL 313.576875 228.439219 \nL 283.816875 228.439219 \nL 283.816875 204.279219 \n\" style=\"fill:#ce1d4e;\"/>\n    <path clip-path=\"url(#p395d4fc958)\" d=\"M 313.576875 204.279219 \nL 343.336875 204.279219 \nL 343.336875 228.439219 \nL 313.576875 228.439219 \nL 313.576875 204.279219 \n\" style=\"fill:#faebdd;\"/>\n   </g>\n   <g id=\"matplotlib.axis_1\">\n    <g id=\"xtick_1\">\n     <g id=\"line2d_1\">\n      <defs>\n       <path d=\"M 0 0 \nL 0 3.5 \n\" id=\"ma272647497\" style=\"stroke:#000000;stroke-width:0.8;\"/>\n      </defs>\n      <g>\n       <use style=\"stroke:#000000;stroke-width:0.8;\" x=\"90.376875\" xlink:href=\"#ma272647497\" y=\"228.439219\"/>\n      </g>\n     </g>\n     <g id=\"text_1\">\n      <!-- passengerId -->\n      <g transform=\"translate(93.13625 296.736094)rotate(-90)scale(0.1 -0.1)\">\n       <defs>\n        <path d=\"M 1159 525 \nL 1159 -1331 \nL 581 -1331 \nL 581 3500 \nL 1159 3500 \nL 1159 2969 \nQ 1341 3281 1617 3432 \nQ 1894 3584 2278 3584 \nQ 2916 3584 3314 3078 \nQ 3713 2572 3713 1747 \nQ 3713 922 3314 415 \nQ 2916 -91 2278 -91 \nQ 1894 -91 1617 61 \nQ 1341 213 1159 525 \nz\nM 3116 1747 \nQ 3116 2381 2855 2742 \nQ 2594 3103 2138 3103 \nQ 1681 3103 1420 2742 \nQ 1159 2381 1159 1747 \nQ 1159 1113 1420 752 \nQ 1681 391 2138 391 \nQ 2594 391 2855 752 \nQ 3116 1113 3116 1747 \nz\n\" id=\"DejaVuSans-70\" transform=\"scale(0.015625)\"/>\n        <path d=\"M 2194 1759 \nQ 1497 1759 1228 1600 \nQ 959 1441 959 1056 \nQ 959 750 1161 570 \nQ 1363 391 1709 391 \nQ 2188 391 2477 730 \nQ 2766 1069 2766 1631 \nL 2766 1759 \nL 2194 1759 \nz\nM 3341 1997 \nL 3341 0 \nL 2766 0 \nL 2766 531 \nQ 2569 213 2275 61 \nQ 1981 -91 1556 -91 \nQ 1019 -91 701 211 \nQ 384 513 384 1019 \nQ 384 1609 779 1909 \nQ 1175 2209 1959 2209 \nL 2766 2209 \nL 2766 2266 \nQ 2766 2663 2505 2880 \nQ 2244 3097 1772 3097 \nQ 1472 3097 1187 3025 \nQ 903 2953 641 2809 \nL 641 3341 \nQ 956 3463 1253 3523 \nQ 1550 3584 1831 3584 \nQ 2591 3584 2966 3190 \nQ 3341 2797 3341 1997 \nz\n\" id=\"DejaVuSans-61\" transform=\"scale(0.015625)\"/>\n        <path d=\"M 2834 3397 \nL 2834 2853 \nQ 2591 2978 2328 3040 \nQ 2066 3103 1784 3103 \nQ 1356 3103 1142 2972 \nQ 928 2841 928 2578 \nQ 928 2378 1081 2264 \nQ 1234 2150 1697 2047 \nL 1894 2003 \nQ 2506 1872 2764 1633 \nQ 3022 1394 3022 966 \nQ 3022 478 2636 193 \nQ 2250 -91 1575 -91 \nQ 1294 -91 989 -36 \nQ 684 19 347 128 \nL 347 722 \nQ 666 556 975 473 \nQ 1284 391 1588 391 \nQ 1994 391 2212 530 \nQ 2431 669 2431 922 \nQ 2431 1156 2273 1281 \nQ 2116 1406 1581 1522 \nL 1381 1569 \nQ 847 1681 609 1914 \nQ 372 2147 372 2553 \nQ 372 3047 722 3315 \nQ 1072 3584 1716 3584 \nQ 2034 3584 2315 3537 \nQ 2597 3491 2834 3397 \nz\n\" id=\"DejaVuSans-73\" transform=\"scale(0.015625)\"/>\n        <path d=\"M 3597 1894 \nL 3597 1613 \nL 953 1613 \nQ 991 1019 1311 708 \nQ 1631 397 2203 397 \nQ 2534 397 2845 478 \nQ 3156 559 3463 722 \nL 3463 178 \nQ 3153 47 2828 -22 \nQ 2503 -91 2169 -91 \nQ 1331 -91 842 396 \nQ 353 884 353 1716 \nQ 353 2575 817 3079 \nQ 1281 3584 2069 3584 \nQ 2775 3584 3186 3129 \nQ 3597 2675 3597 1894 \nz\nM 3022 2063 \nQ 3016 2534 2758 2815 \nQ 2500 3097 2075 3097 \nQ 1594 3097 1305 2825 \nQ 1016 2553 972 2059 \nL 3022 2063 \nz\n\" id=\"DejaVuSans-65\" transform=\"scale(0.015625)\"/>\n        <path d=\"M 3513 2113 \nL 3513 0 \nL 2938 0 \nL 2938 2094 \nQ 2938 2591 2744 2837 \nQ 2550 3084 2163 3084 \nQ 1697 3084 1428 2787 \nQ 1159 2491 1159 1978 \nL 1159 0 \nL 581 0 \nL 581 3500 \nL 1159 3500 \nL 1159 2956 \nQ 1366 3272 1645 3428 \nQ 1925 3584 2291 3584 \nQ 2894 3584 3203 3211 \nQ 3513 2838 3513 2113 \nz\n\" id=\"DejaVuSans-6e\" transform=\"scale(0.015625)\"/>\n        <path d=\"M 2906 1791 \nQ 2906 2416 2648 2759 \nQ 2391 3103 1925 3103 \nQ 1463 3103 1205 2759 \nQ 947 2416 947 1791 \nQ 947 1169 1205 825 \nQ 1463 481 1925 481 \nQ 2391 481 2648 825 \nQ 2906 1169 2906 1791 \nz\nM 3481 434 \nQ 3481 -459 3084 -895 \nQ 2688 -1331 1869 -1331 \nQ 1566 -1331 1297 -1286 \nQ 1028 -1241 775 -1147 \nL 775 -588 \nQ 1028 -725 1275 -790 \nQ 1522 -856 1778 -856 \nQ 2344 -856 2625 -561 \nQ 2906 -266 2906 331 \nL 2906 616 \nQ 2728 306 2450 153 \nQ 2172 0 1784 0 \nQ 1141 0 747 490 \nQ 353 981 353 1791 \nQ 353 2603 747 3093 \nQ 1141 3584 1784 3584 \nQ 2172 3584 2450 3431 \nQ 2728 3278 2906 2969 \nL 2906 3500 \nL 3481 3500 \nL 3481 434 \nz\n\" id=\"DejaVuSans-67\" transform=\"scale(0.015625)\"/>\n        <path d=\"M 2631 2963 \nQ 2534 3019 2420 3045 \nQ 2306 3072 2169 3072 \nQ 1681 3072 1420 2755 \nQ 1159 2438 1159 1844 \nL 1159 0 \nL 581 0 \nL 581 3500 \nL 1159 3500 \nL 1159 2956 \nQ 1341 3275 1631 3429 \nQ 1922 3584 2338 3584 \nQ 2397 3584 2469 3576 \nQ 2541 3569 2628 3553 \nL 2631 2963 \nz\n\" id=\"DejaVuSans-72\" transform=\"scale(0.015625)\"/>\n        <path d=\"M 628 4666 \nL 1259 4666 \nL 1259 0 \nL 628 0 \nL 628 4666 \nz\n\" id=\"DejaVuSans-49\" transform=\"scale(0.015625)\"/>\n        <path d=\"M 2906 2969 \nL 2906 4863 \nL 3481 4863 \nL 3481 0 \nL 2906 0 \nL 2906 525 \nQ 2725 213 2448 61 \nQ 2172 -91 1784 -91 \nQ 1150 -91 751 415 \nQ 353 922 353 1747 \nQ 353 2572 751 3078 \nQ 1150 3584 1784 3584 \nQ 2172 3584 2448 3432 \nQ 2725 3281 2906 2969 \nz\nM 947 1747 \nQ 947 1113 1208 752 \nQ 1469 391 1925 391 \nQ 2381 391 2643 752 \nQ 2906 1113 2906 1747 \nQ 2906 2381 2643 2742 \nQ 2381 3103 1925 3103 \nQ 1469 3103 1208 2742 \nQ 947 2381 947 1747 \nz\n\" id=\"DejaVuSans-64\" transform=\"scale(0.015625)\"/>\n       </defs>\n       <use xlink:href=\"#DejaVuSans-70\"/>\n       <use x=\"63.476562\" xlink:href=\"#DejaVuSans-61\"/>\n       <use x=\"124.755859\" xlink:href=\"#DejaVuSans-73\"/>\n       <use x=\"176.855469\" xlink:href=\"#DejaVuSans-73\"/>\n       <use x=\"228.955078\" xlink:href=\"#DejaVuSans-65\"/>\n       <use x=\"290.478516\" xlink:href=\"#DejaVuSans-6e\"/>\n       <use x=\"353.857422\" xlink:href=\"#DejaVuSans-67\"/>\n       <use x=\"417.333984\" xlink:href=\"#DejaVuSans-65\"/>\n       <use x=\"478.857422\" xlink:href=\"#DejaVuSans-72\"/>\n       <use x=\"519.970703\" xlink:href=\"#DejaVuSans-49\"/>\n       <use x=\"549.462891\" xlink:href=\"#DejaVuSans-64\"/>\n      </g>\n     </g>\n    </g>\n    <g id=\"xtick_2\">\n     <g id=\"line2d_2\">\n      <g>\n       <use style=\"stroke:#000000;stroke-width:0.8;\" x=\"120.136875\" xlink:href=\"#ma272647497\" y=\"228.439219\"/>\n      </g>\n     </g>\n     <g id=\"text_2\">\n      <!-- pclass -->\n      <g transform=\"translate(122.89625 266.611094)rotate(-90)scale(0.1 -0.1)\">\n       <defs>\n        <path d=\"M 3122 3366 \nL 3122 2828 \nQ 2878 2963 2633 3030 \nQ 2388 3097 2138 3097 \nQ 1578 3097 1268 2742 \nQ 959 2388 959 1747 \nQ 959 1106 1268 751 \nQ 1578 397 2138 397 \nQ 2388 397 2633 464 \nQ 2878 531 3122 666 \nL 3122 134 \nQ 2881 22 2623 -34 \nQ 2366 -91 2075 -91 \nQ 1284 -91 818 406 \nQ 353 903 353 1747 \nQ 353 2603 823 3093 \nQ 1294 3584 2113 3584 \nQ 2378 3584 2631 3529 \nQ 2884 3475 3122 3366 \nz\n\" id=\"DejaVuSans-63\" transform=\"scale(0.015625)\"/>\n        <path d=\"M 603 4863 \nL 1178 4863 \nL 1178 0 \nL 603 0 \nL 603 4863 \nz\n\" id=\"DejaVuSans-6c\" transform=\"scale(0.015625)\"/>\n       </defs>\n       <use xlink:href=\"#DejaVuSans-70\"/>\n       <use x=\"63.476562\" xlink:href=\"#DejaVuSans-63\"/>\n       <use x=\"118.457031\" xlink:href=\"#DejaVuSans-6c\"/>\n       <use x=\"146.240234\" xlink:href=\"#DejaVuSans-61\"/>\n       <use x=\"207.519531\" xlink:href=\"#DejaVuSans-73\"/>\n       <use x=\"259.619141\" xlink:href=\"#DejaVuSans-73\"/>\n      </g>\n     </g>\n    </g>\n    <g id=\"xtick_3\">\n     <g id=\"line2d_3\">\n      <g>\n       <use style=\"stroke:#000000;stroke-width:0.8;\" x=\"149.896875\" xlink:href=\"#ma272647497\" y=\"228.439219\"/>\n      </g>\n     </g>\n     <g id=\"text_3\">\n      <!-- survived -->\n      <g transform=\"translate(152.65625 278.214219)rotate(-90)scale(0.1 -0.1)\">\n       <defs>\n        <path d=\"M 544 1381 \nL 544 3500 \nL 1119 3500 \nL 1119 1403 \nQ 1119 906 1312 657 \nQ 1506 409 1894 409 \nQ 2359 409 2629 706 \nQ 2900 1003 2900 1516 \nL 2900 3500 \nL 3475 3500 \nL 3475 0 \nL 2900 0 \nL 2900 538 \nQ 2691 219 2414 64 \nQ 2138 -91 1772 -91 \nQ 1169 -91 856 284 \nQ 544 659 544 1381 \nz\nM 1991 3584 \nL 1991 3584 \nz\n\" id=\"DejaVuSans-75\" transform=\"scale(0.015625)\"/>\n        <path d=\"M 191 3500 \nL 800 3500 \nL 1894 563 \nL 2988 3500 \nL 3597 3500 \nL 2284 0 \nL 1503 0 \nL 191 3500 \nz\n\" id=\"DejaVuSans-76\" transform=\"scale(0.015625)\"/>\n        <path d=\"M 603 3500 \nL 1178 3500 \nL 1178 0 \nL 603 0 \nL 603 3500 \nz\nM 603 4863 \nL 1178 4863 \nL 1178 4134 \nL 603 4134 \nL 603 4863 \nz\n\" id=\"DejaVuSans-69\" transform=\"scale(0.015625)\"/>\n       </defs>\n       <use xlink:href=\"#DejaVuSans-73\"/>\n       <use x=\"52.099609\" xlink:href=\"#DejaVuSans-75\"/>\n       <use x=\"115.478516\" xlink:href=\"#DejaVuSans-72\"/>\n       <use x=\"156.591797\" xlink:href=\"#DejaVuSans-76\"/>\n       <use x=\"215.771484\" xlink:href=\"#DejaVuSans-69\"/>\n       <use x=\"243.554688\" xlink:href=\"#DejaVuSans-76\"/>\n       <use x=\"302.734375\" xlink:href=\"#DejaVuSans-65\"/>\n       <use x=\"364.257812\" xlink:href=\"#DejaVuSans-64\"/>\n      </g>\n     </g>\n    </g>\n    <g id=\"xtick_4\">\n     <g id=\"line2d_4\">\n      <g>\n       <use style=\"stroke:#000000;stroke-width:0.8;\" x=\"179.656875\" xlink:href=\"#ma272647497\" y=\"228.439219\"/>\n      </g>\n     </g>\n     <g id=\"text_4\">\n      <!-- sex -->\n      <g transform=\"translate(182.41625 252.545469)rotate(-90)scale(0.1 -0.1)\">\n       <defs>\n        <path d=\"M 3513 3500 \nL 2247 1797 \nL 3578 0 \nL 2900 0 \nL 1881 1375 \nL 863 0 \nL 184 0 \nL 1544 1831 \nL 300 3500 \nL 978 3500 \nL 1906 2253 \nL 2834 3500 \nL 3513 3500 \nz\n\" id=\"DejaVuSans-78\" transform=\"scale(0.015625)\"/>\n       </defs>\n       <use xlink:href=\"#DejaVuSans-73\"/>\n       <use x=\"52.099609\" xlink:href=\"#DejaVuSans-65\"/>\n       <use x=\"111.873047\" xlink:href=\"#DejaVuSans-78\"/>\n      </g>\n     </g>\n    </g>\n    <g id=\"xtick_5\">\n     <g id=\"line2d_5\">\n      <g>\n       <use style=\"stroke:#000000;stroke-width:0.8;\" x=\"209.416875\" xlink:href=\"#ma272647497\" y=\"228.439219\"/>\n      </g>\n     </g>\n     <g id=\"text_5\">\n      <!-- age -->\n      <g transform=\"translate(212.17625 254.068906)rotate(-90)scale(0.1 -0.1)\">\n       <use xlink:href=\"#DejaVuSans-61\"/>\n       <use x=\"61.279297\" xlink:href=\"#DejaVuSans-67\"/>\n       <use x=\"124.755859\" xlink:href=\"#DejaVuSans-65\"/>\n      </g>\n     </g>\n    </g>\n    <g id=\"xtick_6\">\n     <g id=\"line2d_6\">\n      <g>\n       <use style=\"stroke:#000000;stroke-width:0.8;\" x=\"239.176875\" xlink:href=\"#ma272647497\" y=\"228.439219\"/>\n      </g>\n     </g>\n     <g id=\"text_6\">\n      <!-- sibsp -->\n      <g transform=\"translate(241.93625 261.332969)rotate(-90)scale(0.1 -0.1)\">\n       <defs>\n        <path d=\"M 3116 1747 \nQ 3116 2381 2855 2742 \nQ 2594 3103 2138 3103 \nQ 1681 3103 1420 2742 \nQ 1159 2381 1159 1747 \nQ 1159 1113 1420 752 \nQ 1681 391 2138 391 \nQ 2594 391 2855 752 \nQ 3116 1113 3116 1747 \nz\nM 1159 2969 \nQ 1341 3281 1617 3432 \nQ 1894 3584 2278 3584 \nQ 2916 3584 3314 3078 \nQ 3713 2572 3713 1747 \nQ 3713 922 3314 415 \nQ 2916 -91 2278 -91 \nQ 1894 -91 1617 61 \nQ 1341 213 1159 525 \nL 1159 0 \nL 581 0 \nL 581 4863 \nL 1159 4863 \nL 1159 2969 \nz\n\" id=\"DejaVuSans-62\" transform=\"scale(0.015625)\"/>\n       </defs>\n       <use xlink:href=\"#DejaVuSans-73\"/>\n       <use x=\"52.099609\" xlink:href=\"#DejaVuSans-69\"/>\n       <use x=\"79.882812\" xlink:href=\"#DejaVuSans-62\"/>\n       <use x=\"143.359375\" xlink:href=\"#DejaVuSans-73\"/>\n       <use x=\"195.458984\" xlink:href=\"#DejaVuSans-70\"/>\n      </g>\n     </g>\n    </g>\n    <g id=\"xtick_7\">\n     <g id=\"line2d_7\">\n      <g>\n       <use style=\"stroke:#000000;stroke-width:0.8;\" x=\"268.936875\" xlink:href=\"#ma272647497\" y=\"228.439219\"/>\n      </g>\n     </g>\n     <g id=\"text_7\">\n      <!-- parch -->\n      <g transform=\"translate(271.69625 263.637656)rotate(-90)scale(0.1 -0.1)\">\n       <defs>\n        <path d=\"M 3513 2113 \nL 3513 0 \nL 2938 0 \nL 2938 2094 \nQ 2938 2591 2744 2837 \nQ 2550 3084 2163 3084 \nQ 1697 3084 1428 2787 \nQ 1159 2491 1159 1978 \nL 1159 0 \nL 581 0 \nL 581 4863 \nL 1159 4863 \nL 1159 2956 \nQ 1366 3272 1645 3428 \nQ 1925 3584 2291 3584 \nQ 2894 3584 3203 3211 \nQ 3513 2838 3513 2113 \nz\n\" id=\"DejaVuSans-68\" transform=\"scale(0.015625)\"/>\n       </defs>\n       <use xlink:href=\"#DejaVuSans-70\"/>\n       <use x=\"63.476562\" xlink:href=\"#DejaVuSans-61\"/>\n       <use x=\"124.755859\" xlink:href=\"#DejaVuSans-72\"/>\n       <use x=\"163.619141\" xlink:href=\"#DejaVuSans-63\"/>\n       <use x=\"218.599609\" xlink:href=\"#DejaVuSans-68\"/>\n      </g>\n     </g>\n    </g>\n    <g id=\"xtick_8\">\n     <g id=\"line2d_8\">\n      <g>\n       <use style=\"stroke:#000000;stroke-width:0.8;\" x=\"298.696875\" xlink:href=\"#ma272647497\" y=\"228.439219\"/>\n      </g>\n     </g>\n     <g id=\"text_8\">\n      <!-- fare -->\n      <g transform=\"translate(301.45625 255.126719)rotate(-90)scale(0.1 -0.1)\">\n       <defs>\n        <path d=\"M 2375 4863 \nL 2375 4384 \nL 1825 4384 \nQ 1516 4384 1395 4259 \nQ 1275 4134 1275 3809 \nL 1275 3500 \nL 2222 3500 \nL 2222 3053 \nL 1275 3053 \nL 1275 0 \nL 697 0 \nL 697 3053 \nL 147 3053 \nL 147 3500 \nL 697 3500 \nL 697 3744 \nQ 697 4328 969 4595 \nQ 1241 4863 1831 4863 \nL 2375 4863 \nz\n\" id=\"DejaVuSans-66\" transform=\"scale(0.015625)\"/>\n       </defs>\n       <use xlink:href=\"#DejaVuSans-66\"/>\n       <use x=\"35.205078\" xlink:href=\"#DejaVuSans-61\"/>\n       <use x=\"96.484375\" xlink:href=\"#DejaVuSans-72\"/>\n       <use x=\"135.347656\" xlink:href=\"#DejaVuSans-65\"/>\n      </g>\n     </g>\n    </g>\n    <g id=\"xtick_9\">\n     <g id=\"line2d_9\">\n      <g>\n       <use style=\"stroke:#000000;stroke-width:0.8;\" x=\"328.456875\" xlink:href=\"#ma272647497\" y=\"228.439219\"/>\n      </g>\n     </g>\n     <g id=\"text_9\">\n      <!-- embarked -->\n      <g transform=\"translate(331.21625 285.850156)rotate(-90)scale(0.1 -0.1)\">\n       <defs>\n        <path d=\"M 3328 2828 \nQ 3544 3216 3844 3400 \nQ 4144 3584 4550 3584 \nQ 5097 3584 5394 3201 \nQ 5691 2819 5691 2113 \nL 5691 0 \nL 5113 0 \nL 5113 2094 \nQ 5113 2597 4934 2840 \nQ 4756 3084 4391 3084 \nQ 3944 3084 3684 2787 \nQ 3425 2491 3425 1978 \nL 3425 0 \nL 2847 0 \nL 2847 2094 \nQ 2847 2600 2669 2842 \nQ 2491 3084 2119 3084 \nQ 1678 3084 1418 2786 \nQ 1159 2488 1159 1978 \nL 1159 0 \nL 581 0 \nL 581 3500 \nL 1159 3500 \nL 1159 2956 \nQ 1356 3278 1631 3431 \nQ 1906 3584 2284 3584 \nQ 2666 3584 2933 3390 \nQ 3200 3197 3328 2828 \nz\n\" id=\"DejaVuSans-6d\" transform=\"scale(0.015625)\"/>\n        <path d=\"M 581 4863 \nL 1159 4863 \nL 1159 1991 \nL 2875 3500 \nL 3609 3500 \nL 1753 1863 \nL 3688 0 \nL 2938 0 \nL 1159 1709 \nL 1159 0 \nL 581 0 \nL 581 4863 \nz\n\" id=\"DejaVuSans-6b\" transform=\"scale(0.015625)\"/>\n       </defs>\n       <use xlink:href=\"#DejaVuSans-65\"/>\n       <use x=\"61.523438\" xlink:href=\"#DejaVuSans-6d\"/>\n       <use x=\"158.935547\" xlink:href=\"#DejaVuSans-62\"/>\n       <use x=\"222.412109\" xlink:href=\"#DejaVuSans-61\"/>\n       <use x=\"283.691406\" xlink:href=\"#DejaVuSans-72\"/>\n       <use x=\"324.804688\" xlink:href=\"#DejaVuSans-6b\"/>\n       <use x=\"379.089844\" xlink:href=\"#DejaVuSans-65\"/>\n       <use x=\"440.613281\" xlink:href=\"#DejaVuSans-64\"/>\n      </g>\n     </g>\n    </g>\n   </g>\n   <g id=\"matplotlib.axis_2\">\n    <g id=\"ytick_1\">\n     <g id=\"line2d_10\">\n      <defs>\n       <path d=\"M 0 0 \nL -3.5 0 \n\" id=\"m91a99173d9\" style=\"stroke:#000000;stroke-width:0.8;\"/>\n      </defs>\n      <g>\n       <use style=\"stroke:#000000;stroke-width:0.8;\" x=\"75.496875\" xlink:href=\"#m91a99173d9\" y=\"23.079219\"/>\n      </g>\n     </g>\n     <g id=\"text_10\">\n      <!-- passengerId -->\n      <g transform=\"translate(7.2 26.878438)scale(0.1 -0.1)\">\n       <use xlink:href=\"#DejaVuSans-70\"/>\n       <use x=\"63.476562\" xlink:href=\"#DejaVuSans-61\"/>\n       <use x=\"124.755859\" xlink:href=\"#DejaVuSans-73\"/>\n       <use x=\"176.855469\" xlink:href=\"#DejaVuSans-73\"/>\n       <use x=\"228.955078\" xlink:href=\"#DejaVuSans-65\"/>\n       <use x=\"290.478516\" xlink:href=\"#DejaVuSans-6e\"/>\n       <use x=\"353.857422\" xlink:href=\"#DejaVuSans-67\"/>\n       <use x=\"417.333984\" xlink:href=\"#DejaVuSans-65\"/>\n       <use x=\"478.857422\" xlink:href=\"#DejaVuSans-72\"/>\n       <use x=\"519.970703\" xlink:href=\"#DejaVuSans-49\"/>\n       <use x=\"549.462891\" xlink:href=\"#DejaVuSans-64\"/>\n      </g>\n     </g>\n    </g>\n    <g id=\"ytick_2\">\n     <g id=\"line2d_11\">\n      <g>\n       <use style=\"stroke:#000000;stroke-width:0.8;\" x=\"75.496875\" xlink:href=\"#m91a99173d9\" y=\"47.239219\"/>\n      </g>\n     </g>\n     <g id=\"text_11\">\n      <!-- pclass -->\n      <g transform=\"translate(37.325 51.038438)scale(0.1 -0.1)\">\n       <use xlink:href=\"#DejaVuSans-70\"/>\n       <use x=\"63.476562\" xlink:href=\"#DejaVuSans-63\"/>\n       <use x=\"118.457031\" xlink:href=\"#DejaVuSans-6c\"/>\n       <use x=\"146.240234\" xlink:href=\"#DejaVuSans-61\"/>\n       <use x=\"207.519531\" xlink:href=\"#DejaVuSans-73\"/>\n       <use x=\"259.619141\" xlink:href=\"#DejaVuSans-73\"/>\n      </g>\n     </g>\n    </g>\n    <g id=\"ytick_3\">\n     <g id=\"line2d_12\">\n      <g>\n       <use style=\"stroke:#000000;stroke-width:0.8;\" x=\"75.496875\" xlink:href=\"#m91a99173d9\" y=\"71.399219\"/>\n      </g>\n     </g>\n     <g id=\"text_12\">\n      <!-- survived -->\n      <g transform=\"translate(25.721875 75.198438)scale(0.1 -0.1)\">\n       <use xlink:href=\"#DejaVuSans-73\"/>\n       <use x=\"52.099609\" xlink:href=\"#DejaVuSans-75\"/>\n       <use x=\"115.478516\" xlink:href=\"#DejaVuSans-72\"/>\n       <use x=\"156.591797\" xlink:href=\"#DejaVuSans-76\"/>\n       <use x=\"215.771484\" xlink:href=\"#DejaVuSans-69\"/>\n       <use x=\"243.554688\" xlink:href=\"#DejaVuSans-76\"/>\n       <use x=\"302.734375\" xlink:href=\"#DejaVuSans-65\"/>\n       <use x=\"364.257812\" xlink:href=\"#DejaVuSans-64\"/>\n      </g>\n     </g>\n    </g>\n    <g id=\"ytick_4\">\n     <g id=\"line2d_13\">\n      <g>\n       <use style=\"stroke:#000000;stroke-width:0.8;\" x=\"75.496875\" xlink:href=\"#m91a99173d9\" y=\"95.559219\"/>\n      </g>\n     </g>\n     <g id=\"text_13\">\n      <!-- sex -->\n      <g transform=\"translate(51.390625 99.358438)scale(0.1 -0.1)\">\n       <use xlink:href=\"#DejaVuSans-73\"/>\n       <use x=\"52.099609\" xlink:href=\"#DejaVuSans-65\"/>\n       <use x=\"111.873047\" xlink:href=\"#DejaVuSans-78\"/>\n      </g>\n     </g>\n    </g>\n    <g id=\"ytick_5\">\n     <g id=\"line2d_14\">\n      <g>\n       <use style=\"stroke:#000000;stroke-width:0.8;\" x=\"75.496875\" xlink:href=\"#m91a99173d9\" y=\"119.719219\"/>\n      </g>\n     </g>\n     <g id=\"text_14\">\n      <!-- age -->\n      <g transform=\"translate(49.867188 123.518438)scale(0.1 -0.1)\">\n       <use xlink:href=\"#DejaVuSans-61\"/>\n       <use x=\"61.279297\" xlink:href=\"#DejaVuSans-67\"/>\n       <use x=\"124.755859\" xlink:href=\"#DejaVuSans-65\"/>\n      </g>\n     </g>\n    </g>\n    <g id=\"ytick_6\">\n     <g id=\"line2d_15\">\n      <g>\n       <use style=\"stroke:#000000;stroke-width:0.8;\" x=\"75.496875\" xlink:href=\"#m91a99173d9\" y=\"143.879219\"/>\n      </g>\n     </g>\n     <g id=\"text_15\">\n      <!-- sibsp -->\n      <g transform=\"translate(42.603125 147.678438)scale(0.1 -0.1)\">\n       <use xlink:href=\"#DejaVuSans-73\"/>\n       <use x=\"52.099609\" xlink:href=\"#DejaVuSans-69\"/>\n       <use x=\"79.882812\" xlink:href=\"#DejaVuSans-62\"/>\n       <use x=\"143.359375\" xlink:href=\"#DejaVuSans-73\"/>\n       <use x=\"195.458984\" xlink:href=\"#DejaVuSans-70\"/>\n      </g>\n     </g>\n    </g>\n    <g id=\"ytick_7\">\n     <g id=\"line2d_16\">\n      <g>\n       <use style=\"stroke:#000000;stroke-width:0.8;\" x=\"75.496875\" xlink:href=\"#m91a99173d9\" y=\"168.039219\"/>\n      </g>\n     </g>\n     <g id=\"text_16\">\n      <!-- parch -->\n      <g transform=\"translate(40.298438 171.838437)scale(0.1 -0.1)\">\n       <use xlink:href=\"#DejaVuSans-70\"/>\n       <use x=\"63.476562\" xlink:href=\"#DejaVuSans-61\"/>\n       <use x=\"124.755859\" xlink:href=\"#DejaVuSans-72\"/>\n       <use x=\"163.619141\" xlink:href=\"#DejaVuSans-63\"/>\n       <use x=\"218.599609\" xlink:href=\"#DejaVuSans-68\"/>\n      </g>\n     </g>\n    </g>\n    <g id=\"ytick_8\">\n     <g id=\"line2d_17\">\n      <g>\n       <use style=\"stroke:#000000;stroke-width:0.8;\" x=\"75.496875\" xlink:href=\"#m91a99173d9\" y=\"192.199219\"/>\n      </g>\n     </g>\n     <g id=\"text_17\">\n      <!-- fare -->\n      <g transform=\"translate(48.809375 195.998437)scale(0.1 -0.1)\">\n       <use xlink:href=\"#DejaVuSans-66\"/>\n       <use x=\"35.205078\" xlink:href=\"#DejaVuSans-61\"/>\n       <use x=\"96.484375\" xlink:href=\"#DejaVuSans-72\"/>\n       <use x=\"135.347656\" xlink:href=\"#DejaVuSans-65\"/>\n      </g>\n     </g>\n    </g>\n    <g id=\"ytick_9\">\n     <g id=\"line2d_18\">\n      <g>\n       <use style=\"stroke:#000000;stroke-width:0.8;\" x=\"75.496875\" xlink:href=\"#m91a99173d9\" y=\"216.359219\"/>\n      </g>\n     </g>\n     <g id=\"text_18\">\n      <!-- embarked -->\n      <g transform=\"translate(18.085938 220.158438)scale(0.1 -0.1)\">\n       <use xlink:href=\"#DejaVuSans-65\"/>\n       <use x=\"61.523438\" xlink:href=\"#DejaVuSans-6d\"/>\n       <use x=\"158.935547\" xlink:href=\"#DejaVuSans-62\"/>\n       <use x=\"222.412109\" xlink:href=\"#DejaVuSans-61\"/>\n       <use x=\"283.691406\" xlink:href=\"#DejaVuSans-72\"/>\n       <use x=\"324.804688\" xlink:href=\"#DejaVuSans-6b\"/>\n       <use x=\"379.089844\" xlink:href=\"#DejaVuSans-65\"/>\n       <use x=\"440.613281\" xlink:href=\"#DejaVuSans-64\"/>\n      </g>\n     </g>\n    </g>\n   </g>\n  </g>\n  <g id=\"axes_2\">\n   <g id=\"patch_3\">\n    <path d=\"M 360.076875 228.439219 \nL 370.948875 228.439219 \nL 370.948875 10.999219 \nL 360.076875 10.999219 \nz\n\" style=\"fill:#ffffff;\"/>\n   </g>\n   <g id=\"patch_4\">\n    <path clip-path=\"url(#p05b7bf48f8)\" d=\"M 360.076875 228.439219 \nL 360.076875 227.589844 \nL 360.076875 11.848594 \nL 360.076875 10.999219 \nL 370.948875 10.999219 \nL 370.948875 11.848594 \nL 370.948875 227.589844 \nL 370.948875 228.439219 \nL 370.948875 228.439219 \nz\n\" style=\"fill:#ffffff;stroke:#ffffff;stroke-linejoin:miter;stroke-width:0.01;\"/>\n   </g>\n   <image height=\"218\" id=\"image6e97397185\" transform=\"scale(1 -1)translate(0 -218)\" width=\"11\" x=\"360\" xlink:href=\"data:image/png;base64,\niVBORw0KGgoAAAANSUhEUgAAAAsAAADaCAYAAABwzrisAAABW0lEQVR4nM2YwY3EQAgEYWCTuPzj3L0UqEdJ7TdqNUWb8bjn8/er47N9rayq7b6Xw+KylKffvfhpDT6tQeQZ0fAm6HFm42ZDIeg8GkRZDH9Gg2iCKeHXVsEWiuj9SZkgWwWExr3U3fwM3f2hixEoe+NmDWaE30QHlMd7B4kNb9zsHCTKpmfLhtjg+S4h0wDFMPzEBqHhNbgZNti4tSCl0BBt3KVNGj9gw1sFS2w0QSeGX7Mx9QXKALToucEu2EeKhxR7NsAHI7QxYMuYDTIb51qoPA+EH1yAILoQGm80zyI6oPzA2bal2fCKwRW2tjfDBjhUaINImdxhNc+iDXDGsj9UyDMsBp4ZOkKjyL8vj0YjGnO/06cMxePc4A+HOm6UOk1ZpEGWjJeNvZ9tJmcNHStmqyCjQU95SDZCPCNlrcFuLUgpNCIWI1Lu+UjKZvgtzp3ydkcEidGwGvwHAqorJ3wOLvQAAAAASUVORK5CYII=\" y=\"-10\"/>\n   <g id=\"matplotlib.axis_3\"/>\n   <g id=\"matplotlib.axis_4\">\n    <g id=\"ytick_10\">\n     <g id=\"line2d_19\">\n      <defs>\n       <path d=\"M 0 0 \nL 3.5 0 \n\" id=\"m0f309f7b41\" style=\"stroke:#000000;stroke-width:0.8;\"/>\n      </defs>\n      <g>\n       <use style=\"stroke:#000000;stroke-width:0.8;\" x=\"370.948875\" xlink:href=\"#m0f309f7b41\" y=\"206.328333\"/>\n      </g>\n     </g>\n     <g id=\"text_19\">\n      <!-- −0.4 -->\n      <g transform=\"translate(377.948875 210.127552)scale(0.1 -0.1)\">\n       <defs>\n        <path d=\"M 678 2272 \nL 4684 2272 \nL 4684 1741 \nL 678 1741 \nL 678 2272 \nz\n\" id=\"DejaVuSans-2212\" transform=\"scale(0.015625)\"/>\n        <path d=\"M 2034 4250 \nQ 1547 4250 1301 3770 \nQ 1056 3291 1056 2328 \nQ 1056 1369 1301 889 \nQ 1547 409 2034 409 \nQ 2525 409 2770 889 \nQ 3016 1369 3016 2328 \nQ 3016 3291 2770 3770 \nQ 2525 4250 2034 4250 \nz\nM 2034 4750 \nQ 2819 4750 3233 4129 \nQ 3647 3509 3647 2328 \nQ 3647 1150 3233 529 \nQ 2819 -91 2034 -91 \nQ 1250 -91 836 529 \nQ 422 1150 422 2328 \nQ 422 3509 836 4129 \nQ 1250 4750 2034 4750 \nz\n\" id=\"DejaVuSans-30\" transform=\"scale(0.015625)\"/>\n        <path d=\"M 684 794 \nL 1344 794 \nL 1344 0 \nL 684 0 \nL 684 794 \nz\n\" id=\"DejaVuSans-2e\" transform=\"scale(0.015625)\"/>\n        <path d=\"M 2419 4116 \nL 825 1625 \nL 2419 1625 \nL 2419 4116 \nz\nM 2253 4666 \nL 3047 4666 \nL 3047 1625 \nL 3713 1625 \nL 3713 1100 \nL 3047 1100 \nL 3047 0 \nL 2419 0 \nL 2419 1100 \nL 313 1100 \nL 313 1709 \nL 2253 4666 \nz\n\" id=\"DejaVuSans-34\" transform=\"scale(0.015625)\"/>\n       </defs>\n       <use xlink:href=\"#DejaVuSans-2212\"/>\n       <use x=\"83.789062\" xlink:href=\"#DejaVuSans-30\"/>\n       <use x=\"147.412109\" xlink:href=\"#DejaVuSans-2e\"/>\n       <use x=\"179.199219\" xlink:href=\"#DejaVuSans-34\"/>\n      </g>\n     </g>\n    </g>\n    <g id=\"ytick_11\">\n     <g id=\"line2d_20\">\n      <g>\n       <use style=\"stroke:#000000;stroke-width:0.8;\" x=\"370.948875\" xlink:href=\"#m0f309f7b41\" y=\"178.424174\"/>\n      </g>\n     </g>\n     <g id=\"text_20\">\n      <!-- −0.2 -->\n      <g transform=\"translate(377.948875 182.223393)scale(0.1 -0.1)\">\n       <defs>\n        <path d=\"M 1228 531 \nL 3431 531 \nL 3431 0 \nL 469 0 \nL 469 531 \nQ 828 903 1448 1529 \nQ 2069 2156 2228 2338 \nQ 2531 2678 2651 2914 \nQ 2772 3150 2772 3378 \nQ 2772 3750 2511 3984 \nQ 2250 4219 1831 4219 \nQ 1534 4219 1204 4116 \nQ 875 4013 500 3803 \nL 500 4441 \nQ 881 4594 1212 4672 \nQ 1544 4750 1819 4750 \nQ 2544 4750 2975 4387 \nQ 3406 4025 3406 3419 \nQ 3406 3131 3298 2873 \nQ 3191 2616 2906 2266 \nQ 2828 2175 2409 1742 \nQ 1991 1309 1228 531 \nz\n\" id=\"DejaVuSans-32\" transform=\"scale(0.015625)\"/>\n       </defs>\n       <use xlink:href=\"#DejaVuSans-2212\"/>\n       <use x=\"83.789062\" xlink:href=\"#DejaVuSans-30\"/>\n       <use x=\"147.412109\" xlink:href=\"#DejaVuSans-2e\"/>\n       <use x=\"179.199219\" xlink:href=\"#DejaVuSans-32\"/>\n      </g>\n     </g>\n    </g>\n    <g id=\"ytick_12\">\n     <g id=\"line2d_21\">\n      <g>\n       <use style=\"stroke:#000000;stroke-width:0.8;\" x=\"370.948875\" xlink:href=\"#m0f309f7b41\" y=\"150.520015\"/>\n      </g>\n     </g>\n     <g id=\"text_21\">\n      <!-- 0.0 -->\n      <g transform=\"translate(377.948875 154.319233)scale(0.1 -0.1)\">\n       <use xlink:href=\"#DejaVuSans-30\"/>\n       <use x=\"63.623047\" xlink:href=\"#DejaVuSans-2e\"/>\n       <use x=\"95.410156\" xlink:href=\"#DejaVuSans-30\"/>\n      </g>\n     </g>\n    </g>\n    <g id=\"ytick_13\">\n     <g id=\"line2d_22\">\n      <g>\n       <use style=\"stroke:#000000;stroke-width:0.8;\" x=\"370.948875\" xlink:href=\"#m0f309f7b41\" y=\"122.615856\"/>\n      </g>\n     </g>\n     <g id=\"text_22\">\n      <!-- 0.2 -->\n      <g transform=\"translate(377.948875 126.415074)scale(0.1 -0.1)\">\n       <use xlink:href=\"#DejaVuSans-30\"/>\n       <use x=\"63.623047\" xlink:href=\"#DejaVuSans-2e\"/>\n       <use x=\"95.410156\" xlink:href=\"#DejaVuSans-32\"/>\n      </g>\n     </g>\n    </g>\n    <g id=\"ytick_14\">\n     <g id=\"line2d_23\">\n      <g>\n       <use style=\"stroke:#000000;stroke-width:0.8;\" x=\"370.948875\" xlink:href=\"#m0f309f7b41\" y=\"94.711696\"/>\n      </g>\n     </g>\n     <g id=\"text_23\">\n      <!-- 0.4 -->\n      <g transform=\"translate(377.948875 98.510915)scale(0.1 -0.1)\">\n       <use xlink:href=\"#DejaVuSans-30\"/>\n       <use x=\"63.623047\" xlink:href=\"#DejaVuSans-2e\"/>\n       <use x=\"95.410156\" xlink:href=\"#DejaVuSans-34\"/>\n      </g>\n     </g>\n    </g>\n    <g id=\"ytick_15\">\n     <g id=\"line2d_24\">\n      <g>\n       <use style=\"stroke:#000000;stroke-width:0.8;\" x=\"370.948875\" xlink:href=\"#m0f309f7b41\" y=\"66.807537\"/>\n      </g>\n     </g>\n     <g id=\"text_24\">\n      <!-- 0.6 -->\n      <g transform=\"translate(377.948875 70.606756)scale(0.1 -0.1)\">\n       <defs>\n        <path d=\"M 2113 2584 \nQ 1688 2584 1439 2293 \nQ 1191 2003 1191 1497 \nQ 1191 994 1439 701 \nQ 1688 409 2113 409 \nQ 2538 409 2786 701 \nQ 3034 994 3034 1497 \nQ 3034 2003 2786 2293 \nQ 2538 2584 2113 2584 \nz\nM 3366 4563 \nL 3366 3988 \nQ 3128 4100 2886 4159 \nQ 2644 4219 2406 4219 \nQ 1781 4219 1451 3797 \nQ 1122 3375 1075 2522 \nQ 1259 2794 1537 2939 \nQ 1816 3084 2150 3084 \nQ 2853 3084 3261 2657 \nQ 3669 2231 3669 1497 \nQ 3669 778 3244 343 \nQ 2819 -91 2113 -91 \nQ 1303 -91 875 529 \nQ 447 1150 447 2328 \nQ 447 3434 972 4092 \nQ 1497 4750 2381 4750 \nQ 2619 4750 2861 4703 \nQ 3103 4656 3366 4563 \nz\n\" id=\"DejaVuSans-36\" transform=\"scale(0.015625)\"/>\n       </defs>\n       <use xlink:href=\"#DejaVuSans-30\"/>\n       <use x=\"63.623047\" xlink:href=\"#DejaVuSans-2e\"/>\n       <use x=\"95.410156\" xlink:href=\"#DejaVuSans-36\"/>\n      </g>\n     </g>\n    </g>\n    <g id=\"ytick_16\">\n     <g id=\"line2d_25\">\n      <g>\n       <use style=\"stroke:#000000;stroke-width:0.8;\" x=\"370.948875\" xlink:href=\"#m0f309f7b41\" y=\"38.903378\"/>\n      </g>\n     </g>\n     <g id=\"text_25\">\n      <!-- 0.8 -->\n      <g transform=\"translate(377.948875 42.702597)scale(0.1 -0.1)\">\n       <defs>\n        <path d=\"M 2034 2216 \nQ 1584 2216 1326 1975 \nQ 1069 1734 1069 1313 \nQ 1069 891 1326 650 \nQ 1584 409 2034 409 \nQ 2484 409 2743 651 \nQ 3003 894 3003 1313 \nQ 3003 1734 2745 1975 \nQ 2488 2216 2034 2216 \nz\nM 1403 2484 \nQ 997 2584 770 2862 \nQ 544 3141 544 3541 \nQ 544 4100 942 4425 \nQ 1341 4750 2034 4750 \nQ 2731 4750 3128 4425 \nQ 3525 4100 3525 3541 \nQ 3525 3141 3298 2862 \nQ 3072 2584 2669 2484 \nQ 3125 2378 3379 2068 \nQ 3634 1759 3634 1313 \nQ 3634 634 3220 271 \nQ 2806 -91 2034 -91 \nQ 1263 -91 848 271 \nQ 434 634 434 1313 \nQ 434 1759 690 2068 \nQ 947 2378 1403 2484 \nz\nM 1172 3481 \nQ 1172 3119 1398 2916 \nQ 1625 2713 2034 2713 \nQ 2441 2713 2670 2916 \nQ 2900 3119 2900 3481 \nQ 2900 3844 2670 4047 \nQ 2441 4250 2034 4250 \nQ 1625 4250 1398 4047 \nQ 1172 3844 1172 3481 \nz\n\" id=\"DejaVuSans-38\" transform=\"scale(0.015625)\"/>\n       </defs>\n       <use xlink:href=\"#DejaVuSans-30\"/>\n       <use x=\"63.623047\" xlink:href=\"#DejaVuSans-2e\"/>\n       <use x=\"95.410156\" xlink:href=\"#DejaVuSans-38\"/>\n      </g>\n     </g>\n    </g>\n    <g id=\"ytick_17\">\n     <g id=\"line2d_26\">\n      <g>\n       <use style=\"stroke:#000000;stroke-width:0.8;\" x=\"370.948875\" xlink:href=\"#m0f309f7b41\" y=\"10.999219\"/>\n      </g>\n     </g>\n     <g id=\"text_26\">\n      <!-- 1.0 -->\n      <g transform=\"translate(377.948875 14.798438)scale(0.1 -0.1)\">\n       <defs>\n        <path d=\"M 794 531 \nL 1825 531 \nL 1825 4091 \nL 703 3866 \nL 703 4441 \nL 1819 4666 \nL 2450 4666 \nL 2450 531 \nL 3481 531 \nL 3481 0 \nL 794 0 \nL 794 531 \nz\n\" id=\"DejaVuSans-31\" transform=\"scale(0.015625)\"/>\n       </defs>\n       <use xlink:href=\"#DejaVuSans-31\"/>\n       <use x=\"63.623047\" xlink:href=\"#DejaVuSans-2e\"/>\n       <use x=\"95.410156\" xlink:href=\"#DejaVuSans-30\"/>\n      </g>\n     </g>\n    </g>\n   </g>\n   <g id=\"LineCollection_1\"/>\n   <g id=\"patch_5\">\n    <path d=\"M 360.076875 228.439219 \nL 360.076875 227.589844 \nL 360.076875 11.848594 \nL 360.076875 10.999219 \nL 370.948875 10.999219 \nL 370.948875 11.848594 \nL 370.948875 227.589844 \nL 370.948875 228.439219 \nz\n\" style=\"fill:none;\"/>\n   </g>\n  </g>\n </g>\n <defs>\n  <clipPath id=\"p395d4fc958\">\n   <rect height=\"217.44\" width=\"267.84\" x=\"75.496875\" y=\"10.999219\"/>\n  </clipPath>\n  <clipPath id=\"p05b7bf48f8\">\n   <rect height=\"217.44\" width=\"10.872\" x=\"360.076875\" y=\"10.999219\"/>\n  </clipPath>\n </defs>\n</svg>\n",
      "image/png": "[encoded data removed]"
     },
     "metadata": {
      "needs_background": "light"
     }
    }
   ]
  },
  {
   "source": [
    "Na oczy rzucają się dwie kombinacje:\n",
    "* `passengerId` oraz `fare`\n",
    "* `fare` oraz `pclass`\n",
    "\n",
    "Pierwszą zignorujemy ze względu na logiczny brak powiązania między identyfikatorem pasażera a ceną biletu. Druga jednak niesie za sobą logiczną implikację: bilety klasy 1 wiążą się z wyższą ceną za przepływ od biletów innych klas! Dla dobrej praktyki w klasyfikatorze nie będziemy uwzględniać zmiennej `fare`. Wybieramy zmienną o mniejszej ilości różnych wartości aby uniknąć `overfittingu`"
   ],
   "cell_type": "markdown",
   "metadata": {}
  },
  {
   "cell_type": "code",
   "execution_count": 9,
   "metadata": {},
   "outputs": [],
   "source": [
    "data = data.drop('fare',1)"
   ]
  },
  {
   "source": [
    "***\n",
    "# Implementacja klasyfikatora\n",
    "Aby poprawnie wyewaluować prawdopodobieństwa zmiennych liczbowych założymy, że są rozkładem normalnym. Implementacja kalsyfikatora jest umieszczona w pliku `NBClassifier.py`"
   ],
   "cell_type": "markdown",
   "metadata": {}
  },
  {
   "source": [
    "## Kroswalidacja\n",
    "Przed zastosowaniem klasyfikatora na obrobionych wcześniej danych należy podzielić dane na zbiory treningowe i testowe. Trzeba wprowadzić taki podział, aby potem zmierzyć faktyczną skuteczność klasyfikatora na podstawie danych których wcześniej nie widział. Poniżej zaimplementujemy algorytm `k-fold` który przebiega następująco\n",
    "\n",
    "1. Losowo przetasować zbiór danych\n",
    "2. Podzielić go na **k** grup\n",
    "3. Dla każdej grupy:\n",
    "    * Wziąć daną grupę jako grupę testową\n",
    "    * Wziąć pozostałe grupy jako grupy treningowe\n",
    "    * Wytrenować model na grupach treningowych i sprawdzić wyniki dla grupy testowej\n",
    "    * Zapisać wyniki i odrzucić model\n",
    "4. Wyznaczyć jakość klasyfikatora używając zapisanych wyników poszczególnych grup testowych\n",
    "\n"
   ],
   "cell_type": "markdown",
   "metadata": {}
  },
  {
   "source": [
    "from NBClassifier import NBClassifier, pre_processor, calculate_accuracy\n",
    "\n",
    "def k_fold(k, data):\n",
    "    data.sample(frac=1)\n",
    "    data_slices = np.array_split(data,k)\n",
    "    result = []\n",
    "    for i in range(k):\n",
    "        test = data_slices[i]\n",
    "        train = pd.concat([data_slices[x] for x in range(k) if x != i])\n",
    "        model = NBClassifier()\n",
    "        train_attributes, train_target = pre_processor(train)\n",
    "        model.train(train_attributes, train_target)\n",
    "        predicted_values, true_values = model.classify(test)\n",
    "        result.append((predicted_values, true_values))\n",
    "    return result\n",
    "\n",
    "result = k_fold(5,data)\n"
   ],
   "cell_type": "code",
   "metadata": {},
   "execution_count": 10,
   "outputs": []
  },
  {
   "source": [
    "***\n",
    "# Ocena modelu oraz testowanie klasyfikatora\n",
    "Po wytrenowaniu naszego modelu musimy zmierzyć jego jakość. W tym celu posłużymy się nastepującymi metrykami. Każdą z poniższych metryk uzyskamy ze średniej arytmetycznej tych metryk dla poszczególnych iteracji kroswalidacji\n",
    "* Trafność\n",
    "* Macierz blędów\n",
    "* Miara F1\n",
    "* Krzywe ROC\n",
    "\n",
    "## Trafność\n",
    "Trafność nam mówi jaki procent predykcji naszemu klasyfikatorowi się udał. Należy zauważyć, że nie jest to najbardziej miarodajna metryka. Na przykład dla zestawu danych, w którym 90% przypadków byłoby w klasie $Survived$ nawet słaby klasyfikator przypisałby większość próbek do tej klasy."
   ],
   "cell_type": "markdown",
   "metadata": {}
  },
  {
   "cell_type": "code",
   "execution_count": 11,
   "metadata": {},
   "outputs": [
    {
     "output_type": "stream",
     "name": "stdout",
     "text": [
      "74.10634\n"
     ]
    }
   ],
   "source": [
    "accuracy = 0\n",
    "for pred, true in result:\n",
    "    accuracy += calculate_accuracy(pred,true)\n",
    "\n",
    "print(accuracy/len(result))"
   ]
  },
  {
   "source": [
    "***\n",
    "## Macierz błędów\n",
    "Macierz błędów jest stosowana przy ocenie jakości klasyfikacji binarnej. Dane oznaczone etykietami: 0 lub 1 dla cechy Survived poddawane są klasyfikacji, która przypisuje im predykowaną klasę pozytywną albo predykowaną klasę negatywną. Możliwa jest sytuacja, że dana oryginalnie oznaczona jako pozytywna zostanie omyłkowo zaklasyfikowana jako negatywna. Wszystkie takie sytuacje przedstawia macierz błędów. Te sytuacje możemy podzielić na 4 kategorie:\n",
    "* **TP** (ang. true positive) - ilość próbek zaklasyfikowanych poprawnie do klasy $Survived$\n",
    "* **FN** (ang. false negative) - ilość próbek zaklasyfikowanych niepoprawnie do klasy $Survived$\n",
    "* **TN** (ang. true negative)- ilość próbek poprawnie odrzuconych z klasy $Survived$\n",
    "* **FP** (ang. false positive)- ilość próbek niepoprawnie odrzuconych z klasy $Survived$\n",
    "\n",
    "\n",
    "![title](img/Precision-vs-Recall.png)\n"
   ],
   "cell_type": "markdown",
   "metadata": {}
  },
  {
   "cell_type": "code",
   "execution_count": 12,
   "metadata": {},
   "outputs": [],
   "source": [
    "TP, FN, TN, FP = 0, 0, 0, 0\n",
    "for pred, true in result:\n",
    "    pred_vals = np.asarray(pred)\n",
    "    true_vals = np.asarray(true)\n",
    "    TP = np.sum(np.logical_and(pred_vals == 1, true_vals == 1))\n",
    "    TN = np.sum(np.logical_and(pred_vals == 0, true_vals == 0)) \n",
    "    FP = np.sum(np.logical_and(pred_vals == 1, true_vals == 0))\n",
    "    FN = np.sum(np.logical_and(pred_vals == 0, true_vals == 1))\n"
   ]
  },
  {
   "cell_type": "code",
   "execution_count": null,
   "metadata": {},
   "outputs": [],
   "source": []
  }
 ],
 "metadata": {
  "kernelspec": {
   "name": "python3",
   "display_name": "Python 3.8.5 64-bit"
  },
  "language_info": {
   "codemirror_mode": {
    "name": "ipython",
    "version": 3
   },
   "file_extension": ".py",
   "mimetype": "text/x-python",
   "name": "python",
   "nbconvert_exporter": "python",
   "pygments_lexer": "ipython3",
   "version": "3.8.5"
  },
  "metadata": {
   "interpreter": {
    "hash": "916dbcbb3f70747c44a77c7bcd40155683ae19c65e1c03b4aa3499c5328201f1"
   }
  },
  "interpreter": {
   "hash": "916dbcbb3f70747c44a77c7bcd40155683ae19c65e1c03b4aa3499c5328201f1"
  }
 },
 "nbformat": 4,
 "nbformat_minor": 2
}